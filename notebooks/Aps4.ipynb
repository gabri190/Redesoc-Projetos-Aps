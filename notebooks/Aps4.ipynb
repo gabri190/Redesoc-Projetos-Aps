{
 "cells": [
  {
   "cell_type": "markdown",
   "id": "24223bf5",
   "metadata": {},
   "source": [
    "## Redes sociais - APS(4)"
   ]
  },
  {
   "cell_type": "markdown",
   "id": "22549e7b",
   "metadata": {},
   "source": [
    "Diogo Duarte, Pedro Dannecker e Gabriel de Araújo Alves"
   ]
  },
  {
   "cell_type": "code",
   "execution_count": 10,
   "id": "257466a4",
   "metadata": {},
   "outputs": [
    {
     "name": "stderr",
     "output_type": "stream",
     "text": [
      "<frozen importlib._bootstrap>:914: ImportWarning: VendorImporter.find_spec() not found; falling back to find_module()\n",
      "<frozen importlib._bootstrap>:914: ImportWarning: VendorImporter.find_spec() not found; falling back to find_module()\n"
     ]
    }
   ],
   "source": [
    "from netpixi.integration.gt import *\n",
    "import pandas as pd\n",
    "import csv\n",
    "from graph_tool import Graph\n",
    "import os\n",
    "from graph_tool import util\n",
    "import netpixi\n",
    "import pickle\n",
    "\n",
    "from regression.integration.gt import *\n",
    "from netpixi.integration.gt import *"
   ]
  },
  {
   "cell_type": "code",
   "execution_count": 2,
   "id": "7bfef56e",
   "metadata": {},
   "outputs": [
    {
     "data": {
      "text/html": [
       "\n",
       "        <div id=\"kbWn8cZnZPF3ADdRQCCpHw\"></div>\n",
       "        <script>netpixi.render('kbWn8cZnZPF3ADdRQCCpHw', 'Deezer.net.gz', 1.7777777777777777, true, true, false);</script>\n",
       "    "
      ],
      "text/plain": [
       "<IPython.core.display.HTML object>"
      ]
     },
     "metadata": {},
     "output_type": "display_data"
    }
   ],
   "source": [
    "g= gt_load('../notebooks/Deezer.net.gz')\n",
    "var = gt_draw.sfdp_layout(g)\n",
    "g = gt_clean(g)\n",
    "gt_move(g, var)\n",
    "gt_save(g, 'Deezer.net.gz')\n",
    "r=netpixi.render('Deezer.net.gz',infinite=True);"
   ]
  },
  {
   "cell_type": "markdown",
   "id": "55e4b21b",
   "metadata": {},
   "source": [
    "### Cálculo centralidade beetweness"
   ]
  },
  {
   "cell_type": "code",
   "execution_count": 5,
   "id": "a8e9198a",
   "metadata": {},
   "outputs": [],
   "source": [
    "from graph_tool import centrality\n",
    "\n",
    "bc, _ = centrality.betweenness(g)"
   ]
  },
  {
   "cell_type": "markdown",
   "id": "bd69bb38",
   "metadata": {},
   "source": [
    "### Adição para propriedade do grafo"
   ]
  },
  {
   "cell_type": "code",
   "execution_count": 6,
   "id": "2cdc58e7",
   "metadata": {},
   "outputs": [],
   "source": [
    "g.add_vp('betweenness', bc)"
   ]
  },
  {
   "cell_type": "code",
   "execution_count": 11,
   "id": "45edcacb",
   "metadata": {},
   "outputs": [
    {
     "data": {
      "text/html": [
       "<div>\n",
       "<style scoped>\n",
       "    .dataframe tbody tr th:only-of-type {\n",
       "        vertical-align: middle;\n",
       "    }\n",
       "\n",
       "    .dataframe tbody tr th {\n",
       "        vertical-align: top;\n",
       "    }\n",
       "\n",
       "    .dataframe thead th {\n",
       "        text-align: right;\n",
       "    }\n",
       "</style>\n",
       "<table border=\"1\" class=\"dataframe\">\n",
       "  <thead>\n",
       "    <tr style=\"text-align: right;\">\n",
       "      <th></th>\n",
       "      <th>betweenness</th>\n",
       "    </tr>\n",
       "    <tr>\n",
       "      <th>id</th>\n",
       "      <th></th>\n",
       "    </tr>\n",
       "  </thead>\n",
       "  <tbody>\n",
       "    <tr>\n",
       "      <th>0</th>\n",
       "      <td>0.000120</td>\n",
       "    </tr>\n",
       "    <tr>\n",
       "      <th>1</th>\n",
       "      <td>0.014400</td>\n",
       "    </tr>\n",
       "    <tr>\n",
       "      <th>2</th>\n",
       "      <td>0.000128</td>\n",
       "    </tr>\n",
       "    <tr>\n",
       "      <th>3</th>\n",
       "      <td>0.000327</td>\n",
       "    </tr>\n",
       "    <tr>\n",
       "      <th>4</th>\n",
       "      <td>0.000399</td>\n",
       "    </tr>\n",
       "  </tbody>\n",
       "</table>\n",
       "</div>"
      ],
      "text/plain": [
       "    betweenness\n",
       "id             \n",
       "0      0.000120\n",
       "1      0.014400\n",
       "2      0.000128\n",
       "3      0.000327\n",
       "4      0.000399"
      ]
     },
     "execution_count": 11,
     "metadata": {},
     "output_type": "execute_result"
    }
   ],
   "source": [
    "df=gt_data(g)\n",
    "df.head()"
   ]
  },
  {
   "cell_type": "code",
   "execution_count": 12,
   "id": "f1856749",
   "metadata": {},
   "outputs": [
    {
     "data": {
      "text/html": [
       "\n",
       "        <div id=\"LbrZj7oXEqGeetFnQNVZBn\"></div>\n",
       "        <script>netpixi.call('LbrZj7oXEqGeetFnQNVZBn', 'kbWn8cZnZPF3ADdRQCCpHw', 'setGraph', 'eyJ0eXBlIjogInZlcnRleCIsICJwcm9wcyI6IHsic3JjIjogImlkIiwgImRzdCI6ICJfa2V5In19Cg==');</script>\n",
       "    "
      ],
      "text/plain": [
       "<IPython.core.display.HTML object>"
      ]
     },
     "metadata": {},
     "output_type": "display_data"
    },
    {
     "data": {
      "text/html": [
       "\n",
       "        <div id=\"oVhPjgqxFNTSAymJrHqebE\"></div>\n",
       "        <script>netpixi.call('oVhPjgqxFNTSAymJrHqebE', 'kbWn8cZnZPF3ADdRQCCpHw', 'normalizeGraph', 'eyJ0eXBlIjogInZlcnRleCIsICJwcm9wcyI6IHsic3JjIjogImJldHdlZW5uZXNzIiwgIm1pbiI6IDEwLCAibWF4IjogNTB9fQo=');</script>\n",
       "    "
      ],
      "text/plain": [
       "<IPython.core.display.HTML object>"
      ]
     },
     "metadata": {},
     "output_type": "display_data"
    }
   ],
   "source": [
    "r.vertex_set_key('id')\n",
    "r.vertex_scale('betweenness', 10, 50)"
   ]
  }
 ],
 "metadata": {
  "kernelspec": {
   "display_name": "Python 3 (ipykernel)",
   "language": "python",
   "name": "python3"
  },
  "language_info": {
   "codemirror_mode": {
    "name": "ipython",
    "version": 3
   },
   "file_extension": ".py",
   "mimetype": "text/x-python",
   "name": "python",
   "nbconvert_exporter": "python",
   "pygments_lexer": "ipython3",
   "version": "3.10.10"
  }
 },
 "nbformat": 4,
 "nbformat_minor": 5
}
