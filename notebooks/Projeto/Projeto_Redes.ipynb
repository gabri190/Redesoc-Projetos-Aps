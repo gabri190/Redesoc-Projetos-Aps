{
 "cells": [
  {
   "cell_type": "markdown",
   "id": "3887f10f",
   "metadata": {},
   "source": [
    "### Importando bibliotecas necessárias"
   ]
  },
  {
   "cell_type": "code",
   "execution_count": 1,
   "id": "d36be389",
   "metadata": {},
   "outputs": [
    {
     "data": {
      "text/html": [
       "\n",
       "    <script src=\"/files/netpixi.min.js\"></script>\n"
      ],
      "text/plain": [
       "<IPython.core.display.HTML object>"
      ]
     },
     "metadata": {},
     "output_type": "display_data"
    }
   ],
   "source": [
    "import pandas as pd\n",
    "import csv\n",
    "\n",
    "from graph_tool import Graph\n",
    "import os\n",
    "from graph_tool import util\n",
    "import netpixi\n",
    "import pickle\n",
    "import warnings\n",
    "warnings.filterwarnings(\"ignore\")\n",
    "\n",
    "from regression.integration.gt import *\n",
    "from netpixi.integration.gt import *"
   ]
  },
  {
   "cell_type": "markdown",
   "id": "f1c39b7d",
   "metadata": {},
   "source": [
    "### Dataset NBA players"
   ]
  },
  {
   "cell_type": "code",
   "execution_count": 2,
   "id": "558d111e",
   "metadata": {},
   "outputs": [
    {
     "name": "stderr",
     "output_type": "stream",
     "text": [
      "<frozen importlib._bootstrap>:914: ImportWarning: VendorImporter.find_spec() not found; falling back to find_module()\n"
     ]
    },
    {
     "data": {
      "text/html": [
       "<div>\n",
       "<style scoped>\n",
       "    .dataframe tbody tr th:only-of-type {\n",
       "        vertical-align: middle;\n",
       "    }\n",
       "\n",
       "    .dataframe tbody tr th {\n",
       "        vertical-align: top;\n",
       "    }\n",
       "\n",
       "    .dataframe thead th {\n",
       "        text-align: right;\n",
       "    }\n",
       "</style>\n",
       "<table border=\"1\" class=\"dataframe\">\n",
       "  <thead>\n",
       "    <tr style=\"text-align: right;\">\n",
       "      <th></th>\n",
       "      <th>player_name</th>\n",
       "      <th>team_abbreviation</th>\n",
       "      <th>season</th>\n",
       "    </tr>\n",
       "  </thead>\n",
       "  <tbody>\n",
       "    <tr>\n",
       "      <th>0</th>\n",
       "      <td>Dennis Rodman</td>\n",
       "      <td>CHI</td>\n",
       "      <td>1996-97</td>\n",
       "    </tr>\n",
       "    <tr>\n",
       "      <th>1</th>\n",
       "      <td>Dwayne Schintzius</td>\n",
       "      <td>LAC</td>\n",
       "      <td>1996-97</td>\n",
       "    </tr>\n",
       "    <tr>\n",
       "      <th>2</th>\n",
       "      <td>Earl Cureton</td>\n",
       "      <td>TOR</td>\n",
       "      <td>1996-97</td>\n",
       "    </tr>\n",
       "    <tr>\n",
       "      <th>3</th>\n",
       "      <td>Ed O'Bannon</td>\n",
       "      <td>DAL</td>\n",
       "      <td>1996-97</td>\n",
       "    </tr>\n",
       "    <tr>\n",
       "      <th>4</th>\n",
       "      <td>Ed Pinckney</td>\n",
       "      <td>MIA</td>\n",
       "      <td>1996-97</td>\n",
       "    </tr>\n",
       "    <tr>\n",
       "      <th>...</th>\n",
       "      <td>...</td>\n",
       "      <td>...</td>\n",
       "      <td>...</td>\n",
       "    </tr>\n",
       "    <tr>\n",
       "      <th>12300</th>\n",
       "      <td>Markieff Morris</td>\n",
       "      <td>MIA</td>\n",
       "      <td>2021-22</td>\n",
       "    </tr>\n",
       "    <tr>\n",
       "      <th>12301</th>\n",
       "      <td>Markelle Fultz</td>\n",
       "      <td>ORL</td>\n",
       "      <td>2021-22</td>\n",
       "    </tr>\n",
       "    <tr>\n",
       "      <th>12302</th>\n",
       "      <td>Marcus Smart</td>\n",
       "      <td>BOS</td>\n",
       "      <td>2021-22</td>\n",
       "    </tr>\n",
       "    <tr>\n",
       "      <th>12303</th>\n",
       "      <td>Marcus Garrett</td>\n",
       "      <td>MIA</td>\n",
       "      <td>2021-22</td>\n",
       "    </tr>\n",
       "    <tr>\n",
       "      <th>12304</th>\n",
       "      <td>Micah Potter</td>\n",
       "      <td>DET</td>\n",
       "      <td>2021-22</td>\n",
       "    </tr>\n",
       "  </tbody>\n",
       "</table>\n",
       "<p>12305 rows × 3 columns</p>\n",
       "</div>"
      ],
      "text/plain": [
       "             player_name team_abbreviation   season\n",
       "0          Dennis Rodman               CHI  1996-97\n",
       "1      Dwayne Schintzius               LAC  1996-97\n",
       "2           Earl Cureton               TOR  1996-97\n",
       "3            Ed O'Bannon               DAL  1996-97\n",
       "4            Ed Pinckney               MIA  1996-97\n",
       "...                  ...               ...      ...\n",
       "12300    Markieff Morris               MIA  2021-22\n",
       "12301     Markelle Fultz               ORL  2021-22\n",
       "12302       Marcus Smart               BOS  2021-22\n",
       "12303     Marcus Garrett               MIA  2021-22\n",
       "12304       Micah Potter               DET  2021-22\n",
       "\n",
       "[12305 rows x 3 columns]"
      ]
     },
     "execution_count": 2,
     "metadata": {},
     "output_type": "execute_result"
    }
   ],
   "source": [
    "import pandas as pd\n",
    "df=pd.read_csv(\"all_seasons.csv\")\n",
    "df_new=df[['player_name','team_abbreviation','season']]\n",
    "df_new"
   ]
  },
  {
   "cell_type": "markdown",
   "id": "fba44202",
   "metadata": {},
   "source": [
    "### Criação do grafo"
   ]
  },
  {
   "cell_type": "code",
   "execution_count": 3,
   "id": "1a7a427d",
   "metadata": {},
   "outputs": [],
   "source": [
    "from netpixi.integration.gt import Graph\n",
    "\n",
    "g = Graph(directed=False) # não dirigido"
   ]
  },
  {
   "cell_type": "code",
   "execution_count": 4,
   "id": "c0d7feb9",
   "metadata": {},
   "outputs": [],
   "source": [
    "# lista de jogadores\n",
    "players = df_new['player_name'].unique().tolist()"
   ]
  },
  {
   "cell_type": "code",
   "execution_count": 5,
   "id": "2ec0e847",
   "metadata": {},
   "outputs": [],
   "source": [
    "# adicionar nós para cada jogador\n",
    "for player in players:\n",
    "    g.add_vertex(player)\n",
    "    diogo = g.get_vertex(player)\n",
    "    g.add_vp('nome')\n",
    "    diogo['nome'] = player\n",
    "#     print(player)\n",
    "    "
   ]
  },
  {
   "cell_type": "code",
   "execution_count": 6,
   "id": "89ef5022",
   "metadata": {},
   "outputs": [],
   "source": [
    "N=3\n",
    "# filtra os jogadores que jogaram juntos por mais de 2 temporadas\n",
    "df_filtered = df_new.groupby(['team_abbreviation', 'player_name']).filter(lambda x: x['season'].nunique() > N)\n",
    "\n",
    "# adiciona as arestas ao grafo\n",
    "for _, group in df_filtered.groupby(['team_abbreviation', 'season']):\n",
    "    players = group['player_name'].tolist()\n",
    "    for i in range(len(players)):\n",
    "        for j in range(i+1, len(players)):\n",
    "            # verifica se os jogadores jogaram juntos por mais de N temporadas\n",
    "            num_seasons = len(set(df_new[(df_new['player_name']==players[i]) & (df_new['team_abbreviation']==group['team_abbreviation'].iloc[0])]['season']).intersection(\n",
    "                                set(df_new[(df_new['player_name']==players[j]) & (df_new['team_abbreviation']==group['team_abbreviation'].iloc[0])]['season'])))\n",
    "            if num_seasons > N:\n",
    "                # verifica se a aresta não existe no grafo\n",
    "                if not g.has_edge(players[i], players[j]):\n",
    "                    # adiciona a aresta ao grafo\n",
    "                    g.add_edge(players[i], players[j])\n",
    "                    e = g.get_edge(players[i], players[j])\n",
    "                    g.add_ep('seasons_jogadas')\n",
    "                    e['seasons_jogadas'] = num_seasons\n",
    "                    \n"
   ]
  },
  {
   "cell_type": "markdown",
   "id": "739f5651",
   "metadata": {},
   "source": [
    "### Análise Exploratória"
   ]
  },
  {
   "cell_type": "markdown",
   "id": "07ca22f9",
   "metadata": {},
   "source": [
    "#### a) Número de vértices, arestas, densidade"
   ]
  },
  {
   "cell_type": "code",
   "execution_count": 7,
   "id": "28adfb5c",
   "metadata": {},
   "outputs": [
    {
     "name": "stdout",
     "output_type": "stream",
     "text": [
      "O número de vértices é 2463\n"
     ]
    }
   ],
   "source": [
    "#número de vértices\n",
    "n = g.num_vertices()\n",
    "print('O número de vértices é {0}'.format(n))"
   ]
  },
  {
   "cell_type": "code",
   "execution_count": 8,
   "id": "30e62aea",
   "metadata": {},
   "outputs": [
    {
     "name": "stdout",
     "output_type": "stream",
     "text": [
      "O número de arestas é 1411\n"
     ]
    }
   ],
   "source": [
    "#número de arestas\n",
    "m = g.num_edges()\n",
    "print('O número de arestas é {0}'.format(m))"
   ]
  },
  {
   "cell_type": "code",
   "execution_count": 9,
   "id": "1b8cb016",
   "metadata": {},
   "outputs": [
    {
     "name": "stdout",
     "output_type": "stream",
     "text": [
      "A densidade é 0.0002\n"
     ]
    }
   ],
   "source": [
    "##densidade\n",
    "max_edges = n * (n - 1)\n",
    "d = m / max_edges\n",
    "print('A densidade é {0}'.format(round(d,4)))"
   ]
  },
  {
   "cell_type": "code",
   "execution_count": 10,
   "id": "238797d4",
   "metadata": {},
   "outputs": [
    {
     "data": {
      "text/html": [
       "<div>\n",
       "<style scoped>\n",
       "    .dataframe tbody tr th:only-of-type {\n",
       "        vertical-align: middle;\n",
       "    }\n",
       "\n",
       "    .dataframe tbody tr th {\n",
       "        vertical-align: top;\n",
       "    }\n",
       "\n",
       "    .dataframe thead th {\n",
       "        text-align: right;\n",
       "    }\n",
       "</style>\n",
       "<table border=\"1\" class=\"dataframe\">\n",
       "  <thead>\n",
       "    <tr style=\"text-align: right;\">\n",
       "      <th></th>\n",
       "      <th>id</th>\n",
       "      <th>nome</th>\n",
       "    </tr>\n",
       "  </thead>\n",
       "  <tbody>\n",
       "    <tr>\n",
       "      <th>0</th>\n",
       "      <td>Dennis Rodman</td>\n",
       "      <td>Dennis Rodman</td>\n",
       "    </tr>\n",
       "    <tr>\n",
       "      <th>1</th>\n",
       "      <td>Dwayne Schintzius</td>\n",
       "      <td>Dwayne Schintzius</td>\n",
       "    </tr>\n",
       "    <tr>\n",
       "      <th>2</th>\n",
       "      <td>Earl Cureton</td>\n",
       "      <td>Earl Cureton</td>\n",
       "    </tr>\n",
       "    <tr>\n",
       "      <th>3</th>\n",
       "      <td>Ed O'Bannon</td>\n",
       "      <td>Ed O'Bannon</td>\n",
       "    </tr>\n",
       "    <tr>\n",
       "      <th>4</th>\n",
       "      <td>Ed Pinckney</td>\n",
       "      <td>Ed Pinckney</td>\n",
       "    </tr>\n",
       "  </tbody>\n",
       "</table>\n",
       "</div>"
      ],
      "text/plain": [
       "                  id               nome\n",
       "0      Dennis Rodman      Dennis Rodman\n",
       "1  Dwayne Schintzius  Dwayne Schintzius\n",
       "2       Earl Cureton       Earl Cureton\n",
       "3        Ed O'Bannon        Ed O'Bannon\n",
       "4        Ed Pinckney        Ed Pinckney"
      ]
     },
     "execution_count": 10,
     "metadata": {},
     "output_type": "execute_result"
    }
   ],
   "source": [
    "data_targets = pd.DataFrame({k: list(v) for k, v in g.vp.items()})\n",
    "data_targets.head()"
   ]
  },
  {
   "cell_type": "markdown",
   "id": "8d239352",
   "metadata": {},
   "source": [
    "#### B) Estatísticas e histograma do degree. (não é necessário in-degree e out-degree)"
   ]
  },
  {
   "cell_type": "code",
   "execution_count": 11,
   "id": "3aaf5ec7",
   "metadata": {},
   "outputs": [
    {
     "name": "stdout",
     "output_type": "stream",
     "text": [
      "<class 'pandas.core.frame.DataFrame'>\n",
      "RangeIndex: 2463 entries, 0 to 2462\n",
      "Data columns (total 3 columns):\n",
      " #   Column  Non-Null Count  Dtype \n",
      "---  ------  --------------  ----- \n",
      " 0   id      2463 non-null   object\n",
      " 1   nome    2463 non-null   object\n",
      " 2   degree  2463 non-null   int64 \n",
      "dtypes: int64(1), object(2)\n",
      "memory usage: 57.9+ KB\n"
     ]
    }
   ],
   "source": [
    "degrees = []\n",
    "for v in g.all_vertices():\n",
    "    degrees.append(v.total_degree())\n",
    "\n",
    "data_targets['degree'] = degrees\n",
    "data_targets.info()"
   ]
  },
  {
   "cell_type": "code",
   "execution_count": 12,
   "id": "296e2073",
   "metadata": {},
   "outputs": [
    {
     "data": {
      "text/plain": [
       "count    2463.000000\n",
       "mean        1.145757\n",
       "std         2.546614\n",
       "min         0.000000\n",
       "25%         0.000000\n",
       "50%         0.000000\n",
       "75%         0.000000\n",
       "max        23.000000\n",
       "Name: degree, dtype: float64"
      ]
     },
     "execution_count": 12,
     "metadata": {},
     "output_type": "execute_result"
    },
    {
     "data": {
      "image/png": "[encoded data removed]",
      "text/plain": [
       "<Figure size 640x480 with 1 Axes>"
      ]
     },
     "metadata": {},
     "output_type": "display_data"
    }
   ],
   "source": [
    "import seaborn as sns\n",
    "sns.histplot(data_targets['degree'])\n",
    "data_targets['degree'].describe()"
   ]
  },
  {
   "cell_type": "markdown",
   "id": "b49cd934",
   "metadata": {},
   "source": [
    "### Análise Visual do Grafo"
   ]
  },
  {
   "cell_type": "markdown",
   "id": "845265fb",
   "metadata": {},
   "source": [
    "#### A) Salvando o arquivo"
   ]
  },
  {
   "cell_type": "code",
   "execution_count": 13,
   "id": "3c270f16",
   "metadata": {},
   "outputs": [],
   "source": [
    "g = gt_clean(g)\n",
    "gt_save(g,'Nba_teams.gz')"
   ]
  },
  {
   "cell_type": "markdown",
   "id": "9e3d9d9e",
   "metadata": {},
   "source": [
    "#### B) Visualizando o grafo"
   ]
  },
  {
   "cell_type": "code",
   "execution_count": 14,
   "id": "8dc9bc0a",
   "metadata": {
    "scrolled": true
   },
   "outputs": [
    {
     "data": {
      "text/html": [
       "\n",
       "        <div id=\"gChzotDgK6tGrtiymzzdHU\"></div>\n",
       "        <script>netpixi.render('gChzotDgK6tGrtiymzzdHU', 'Nba_teams.gz', 1.7777777777777777, true, true, false);</script>\n",
       "    "
      ],
      "text/plain": [
       "<IPython.core.display.HTML object>"
      ]
     },
     "metadata": {},
     "output_type": "display_data"
    }
   ],
   "source": [
    "g = gt_load('Nba_teams.gz')\n",
    "m = gt_draw.sfdp_layout(g)\n",
    "gt_move(g, m)\n",
    "gt_save(g,'Nba_teams.gz')\n",
    "r=netpixi.render('Nba_teams.gz',infinite=True);"
   ]
  },
  {
   "cell_type": "markdown",
   "id": "312a54db",
   "metadata": {},
   "source": [
    "#### C) Ajustando as propriedades visuais do grafo"
   ]
  },
  {
   "cell_type": "code",
   "execution_count": 15,
   "id": "9e6b29f3",
   "metadata": {},
   "outputs": [
    {
     "data": {
      "text/html": [
       "\n",
       "        <div id=\"eNV9NMdfpoBDjBQoqMwyXB\"></div>\n",
       "        <script>netpixi.call('eNV9NMdfpoBDjBQoqMwyXB', 'gChzotDgK6tGrtiymzzdHU', 'changeGraph', 'eyJ0eXBlIjogInNldHRpbmdzIiwgInByb3BzIjogeyJncmFwaCI6IHsiY29sb3IiOiAxNjc3NzIxNX19fQo=');</script>\n",
       "    "
      ],
      "text/plain": [
       "<IPython.core.display.HTML object>"
      ]
     },
     "metadata": {},
     "output_type": "display_data"
    },
    {
     "data": {
      "text/html": [
       "\n",
       "        <div id=\"J2ZgunWX3fYLr6QghQyDY6\"></div>\n",
       "        <script>netpixi.call('J2ZgunWX3fYLr6QghQyDY6', 'gChzotDgK6tGrtiymzzdHU', 'changeGraph', 'eyJ0eXBlIjogInNldHRpbmdzIiwgInByb3BzIjogeyJ2ZXJ0ZXgiOiB7ImNvbG9yIjogMCwgInNpemUiOiA1fX19Cg==');</script>\n",
       "    "
      ],
      "text/plain": [
       "<IPython.core.display.HTML object>"
      ]
     },
     "metadata": {},
     "output_type": "display_data"
    },
    {
     "data": {
      "text/html": [
       "\n",
       "        <div id=\"4qD7C753DJyJJwv7qfeXSv\"></div>\n",
       "        <script>netpixi.call('4qD7C753DJyJJwv7qfeXSv', 'gChzotDgK6tGrtiymzzdHU', 'changeGraph', 'eyJ0eXBlIjogInNldHRpbmdzIiwgInByb3BzIjogeyJlZGdlIjogeyJjb2xvciI6IDAsICJ3aWR0aCI6IDEsICJjdXJ2ZTEiOiAwLCAiY3VydmUyIjogMH19fQo=');</script>\n",
       "    "
      ],
      "text/plain": [
       "<IPython.core.display.HTML object>"
      ]
     },
     "metadata": {},
     "output_type": "display_data"
    }
   ],
   "source": [
    "# mudar a cor de fundo do grafo\n",
    "r.graph(color=0xffffff)\n",
    "\n",
    "# mudar a cor e o tamanho dos vértices\n",
    "r.vertex_default(color=0x000000, size=5)\n",
    "\n",
    "# mudar a cor, a espessura e a curvatura das arestas\n",
    "r.edge_default(color=0x000000, width=1, curve1=0, curve2=0)"
   ]
  },
  {
   "cell_type": "markdown",
   "id": "f9661217",
   "metadata": {},
   "source": [
    "### Modificando data"
   ]
  },
  {
   "cell_type": "code",
   "execution_count": 16,
   "id": "bceb7330",
   "metadata": {},
   "outputs": [
    {
     "data": {
      "text/html": [
       "<div>\n",
       "<style scoped>\n",
       "    .dataframe tbody tr th:only-of-type {\n",
       "        vertical-align: middle;\n",
       "    }\n",
       "\n",
       "    .dataframe tbody tr th {\n",
       "        vertical-align: top;\n",
       "    }\n",
       "\n",
       "    .dataframe thead th {\n",
       "        text-align: right;\n",
       "    }\n",
       "</style>\n",
       "<table border=\"1\" class=\"dataframe\">\n",
       "  <thead>\n",
       "    <tr style=\"text-align: right;\">\n",
       "      <th></th>\n",
       "      <th>player_name</th>\n",
       "      <th>num_seasons</th>\n",
       "      <th>career_net_rating</th>\n",
       "      <th>draft_number</th>\n",
       "      <th>draft_year</th>\n",
       "    </tr>\n",
       "  </thead>\n",
       "  <tbody>\n",
       "    <tr>\n",
       "      <th>0</th>\n",
       "      <td>A.C. Green</td>\n",
       "      <td>5</td>\n",
       "      <td>-1.880000</td>\n",
       "      <td>23</td>\n",
       "      <td>1985</td>\n",
       "    </tr>\n",
       "    <tr>\n",
       "      <th>1</th>\n",
       "      <td>A.J. Bramlett</td>\n",
       "      <td>1</td>\n",
       "      <td>-32.600000</td>\n",
       "      <td>39</td>\n",
       "      <td>1999</td>\n",
       "    </tr>\n",
       "    <tr>\n",
       "      <th>2</th>\n",
       "      <td>A.J. Guyton</td>\n",
       "      <td>3</td>\n",
       "      <td>-6.700000</td>\n",
       "      <td>32</td>\n",
       "      <td>2000</td>\n",
       "    </tr>\n",
       "    <tr>\n",
       "      <th>3</th>\n",
       "      <td>AJ Hammons</td>\n",
       "      <td>1</td>\n",
       "      <td>-0.600000</td>\n",
       "      <td>46</td>\n",
       "      <td>2016</td>\n",
       "    </tr>\n",
       "    <tr>\n",
       "      <th>4</th>\n",
       "      <td>AJ Price</td>\n",
       "      <td>6</td>\n",
       "      <td>-2.233333</td>\n",
       "      <td>52</td>\n",
       "      <td>2009</td>\n",
       "    </tr>\n",
       "    <tr>\n",
       "      <th>...</th>\n",
       "      <td>...</td>\n",
       "      <td>...</td>\n",
       "      <td>...</td>\n",
       "      <td>...</td>\n",
       "      <td>...</td>\n",
       "    </tr>\n",
       "    <tr>\n",
       "      <th>2458</th>\n",
       "      <td>Zion Williamson</td>\n",
       "      <td>2</td>\n",
       "      <td>3.600000</td>\n",
       "      <td>1</td>\n",
       "      <td>2019</td>\n",
       "    </tr>\n",
       "    <tr>\n",
       "      <th>2459</th>\n",
       "      <td>Zoran Dragic</td>\n",
       "      <td>1</td>\n",
       "      <td>-15.300000</td>\n",
       "      <td>-1</td>\n",
       "      <td>-1</td>\n",
       "    </tr>\n",
       "    <tr>\n",
       "      <th>2460</th>\n",
       "      <td>Zoran Planinic</td>\n",
       "      <td>3</td>\n",
       "      <td>-6.233333</td>\n",
       "      <td>22</td>\n",
       "      <td>2003</td>\n",
       "    </tr>\n",
       "    <tr>\n",
       "      <th>2461</th>\n",
       "      <td>Zydrunas Ilgauskas</td>\n",
       "      <td>13</td>\n",
       "      <td>2.107692</td>\n",
       "      <td>20</td>\n",
       "      <td>1996</td>\n",
       "    </tr>\n",
       "    <tr>\n",
       "      <th>2462</th>\n",
       "      <td>Zylan Cheatham</td>\n",
       "      <td>2</td>\n",
       "      <td>-65.350000</td>\n",
       "      <td>-1</td>\n",
       "      <td>-1</td>\n",
       "    </tr>\n",
       "  </tbody>\n",
       "</table>\n",
       "<p>2463 rows × 5 columns</p>\n",
       "</div>"
      ],
      "text/plain": [
       "             player_name  num_seasons  career_net_rating  draft_number  \\\n",
       "0             A.C. Green            5          -1.880000            23   \n",
       "1          A.J. Bramlett            1         -32.600000            39   \n",
       "2            A.J. Guyton            3          -6.700000            32   \n",
       "3             AJ Hammons            1          -0.600000            46   \n",
       "4               AJ Price            6          -2.233333            52   \n",
       "...                  ...          ...                ...           ...   \n",
       "2458     Zion Williamson            2           3.600000             1   \n",
       "2459        Zoran Dragic            1         -15.300000            -1   \n",
       "2460      Zoran Planinic            3          -6.233333            22   \n",
       "2461  Zydrunas Ilgauskas           13           2.107692            20   \n",
       "2462      Zylan Cheatham            2         -65.350000            -1   \n",
       "\n",
       "      draft_year  \n",
       "0           1985  \n",
       "1           1999  \n",
       "2           2000  \n",
       "3           2016  \n",
       "4           2009  \n",
       "...          ...  \n",
       "2458        2019  \n",
       "2459          -1  \n",
       "2460        2003  \n",
       "2461        1996  \n",
       "2462          -1  \n",
       "\n",
       "[2463 rows x 5 columns]"
      ]
     },
     "execution_count": 16,
     "metadata": {},
     "output_type": "execute_result"
    }
   ],
   "source": [
    "#fazer esse dataframe anterior em menos passos\n",
    "df_career = df.groupby('player_name').agg({'season': 'nunique', 'net_rating': 'mean', 'draft_number': 'max', 'draft_year':'unique'}).reset_index()\n",
    "df_career = df_career.rename(columns={'season': 'num_seasons', 'net_rating': 'career_net_rating'})\n",
    "\n",
    "#replace dos valores de draft_number para inteiros e \"undrafetd\" para -1\n",
    "df_career['draft_number'] = df_career['draft_number'].replace('Undrafted', -1).astype(int)\n",
    "df_career['draft_year'] = df_career['draft_year'].apply(lambda x: x[0])\n",
    "df_career['draft_year'] = df_career['draft_year'].replace('Undrafted', -1).astype(int)\n",
    "\n",
    "#criar um novo dataframe com os draftados depois de 1990\n",
    "# df_career = df_career[df_career['draft_year'] >= 1993]\n",
    "df_career"
   ]
  },
  {
   "cell_type": "markdown",
   "id": "b08de2cd",
   "metadata": {},
   "source": [
    "### Clustering Coefficient"
   ]
  },
  {
   "cell_type": "code",
   "execution_count": 17,
   "id": "d24cc4e4",
   "metadata": {},
   "outputs": [],
   "source": [
    "#calculando clustering coefficient:\n",
    "from graph_tool import clustering\n",
    "\n",
    "lc = clustering.local_clustering(g)\n",
    "g.add_vp('clustering', lc)\n",
    "data_clustering=gt_data(g)"
   ]
  },
  {
   "cell_type": "code",
   "execution_count": 18,
   "id": "f06dcea5",
   "metadata": {
    "scrolled": true
   },
   "outputs": [
    {
     "data": {
      "text/html": [
       "<div>\n",
       "<style scoped>\n",
       "    .dataframe tbody tr th:only-of-type {\n",
       "        vertical-align: middle;\n",
       "    }\n",
       "\n",
       "    .dataframe tbody tr th {\n",
       "        vertical-align: top;\n",
       "    }\n",
       "\n",
       "    .dataframe thead th {\n",
       "        text-align: right;\n",
       "    }\n",
       "</style>\n",
       "<table border=\"1\" class=\"dataframe\">\n",
       "  <thead>\n",
       "    <tr style=\"text-align: right;\">\n",
       "      <th></th>\n",
       "      <th>player_name</th>\n",
       "      <th>nome</th>\n",
       "      <th>clustering</th>\n",
       "    </tr>\n",
       "  </thead>\n",
       "  <tbody>\n",
       "    <tr>\n",
       "      <th>0</th>\n",
       "      <td>0</td>\n",
       "      <td>Eddie Jones</td>\n",
       "      <td>0.000000</td>\n",
       "    </tr>\n",
       "    <tr>\n",
       "      <th>1</th>\n",
       "      <td>1</td>\n",
       "      <td>Eric Piatkowski</td>\n",
       "      <td>1.000000</td>\n",
       "    </tr>\n",
       "    <tr>\n",
       "      <th>2</th>\n",
       "      <td>2</td>\n",
       "      <td>Eric Snow</td>\n",
       "      <td>0.333333</td>\n",
       "    </tr>\n",
       "    <tr>\n",
       "      <th>3</th>\n",
       "      <td>3</td>\n",
       "      <td>Eric Williams</td>\n",
       "      <td>1.000000</td>\n",
       "    </tr>\n",
       "    <tr>\n",
       "      <th>4</th>\n",
       "      <td>4</td>\n",
       "      <td>Erick Dampier</td>\n",
       "      <td>0.392857</td>\n",
       "    </tr>\n",
       "    <tr>\n",
       "      <th>...</th>\n",
       "      <td>...</td>\n",
       "      <td>...</td>\n",
       "      <td>...</td>\n",
       "    </tr>\n",
       "    <tr>\n",
       "      <th>491</th>\n",
       "      <td>491</td>\n",
       "      <td>Luka Doncic</td>\n",
       "      <td>1.000000</td>\n",
       "    </tr>\n",
       "    <tr>\n",
       "      <th>492</th>\n",
       "      <td>492</td>\n",
       "      <td>Mo Bamba</td>\n",
       "      <td>1.000000</td>\n",
       "    </tr>\n",
       "    <tr>\n",
       "      <th>493</th>\n",
       "      <td>493</td>\n",
       "      <td>Jalen Brunson</td>\n",
       "      <td>1.000000</td>\n",
       "    </tr>\n",
       "    <tr>\n",
       "      <th>494</th>\n",
       "      <td>494</td>\n",
       "      <td>Jaren Jackson Jr.</td>\n",
       "      <td>1.000000</td>\n",
       "    </tr>\n",
       "    <tr>\n",
       "      <th>495</th>\n",
       "      <td>495</td>\n",
       "      <td>Josh Okogie</td>\n",
       "      <td>0.000000</td>\n",
       "    </tr>\n",
       "  </tbody>\n",
       "</table>\n",
       "<p>496 rows × 3 columns</p>\n",
       "</div>"
      ],
      "text/plain": [
       "     player_name               nome  clustering\n",
       "0              0        Eddie Jones    0.000000\n",
       "1              1    Eric Piatkowski    1.000000\n",
       "2              2          Eric Snow    0.333333\n",
       "3              3      Eric Williams    1.000000\n",
       "4              4      Erick Dampier    0.392857\n",
       "..           ...                ...         ...\n",
       "491          491        Luka Doncic    1.000000\n",
       "492          492           Mo Bamba    1.000000\n",
       "493          493      Jalen Brunson    1.000000\n",
       "494          494  Jaren Jackson Jr.    1.000000\n",
       "495          495        Josh Okogie    0.000000\n",
       "\n",
       "[496 rows x 3 columns]"
      ]
     },
     "execution_count": 18,
     "metadata": {},
     "output_type": "execute_result"
    }
   ],
   "source": [
    "#renomar a coluna clustering para clustering_coefficient e acrescentar a coluna player_name e o id virar numero\n",
    "data_clustering=data_clustering.reset_index().rename(columns={'id': 'player_name'})\n",
    "data_clustering"
   ]
  },
  {
   "cell_type": "code",
   "execution_count": 19,
   "id": "63ed9d7b",
   "metadata": {},
   "outputs": [],
   "source": [
    "df_career_filtered = df_career[df_career['player_name'].isin(data_clustering['nome'])]"
   ]
  },
  {
   "cell_type": "code",
   "execution_count": 20,
   "id": "218fbab4",
   "metadata": {},
   "outputs": [
    {
     "name": "stderr",
     "output_type": "stream",
     "text": [
      "/tmp/ipykernel_14/2846346443.py:6: SettingWithCopyWarning: \n",
      "A value is trying to be set on a copy of a slice from a DataFrame.\n",
      "Try using .loc[row_indexer,col_indexer] = value instead\n",
      "\n",
      "See the caveats in the documentation: https://pandas.pydata.org/pandas-docs/stable/user_guide/indexing.html#returning-a-view-versus-a-copy\n",
      "  df_career_filtered['clustering_coefficient'] = lista_clustering\n"
     ]
    },
    {
     "data": {
      "text/html": [
       "<div>\n",
       "<style scoped>\n",
       "    .dataframe tbody tr th:only-of-type {\n",
       "        vertical-align: middle;\n",
       "    }\n",
       "\n",
       "    .dataframe tbody tr th {\n",
       "        vertical-align: top;\n",
       "    }\n",
       "\n",
       "    .dataframe thead th {\n",
       "        text-align: right;\n",
       "    }\n",
       "</style>\n",
       "<table border=\"1\" class=\"dataframe\">\n",
       "  <thead>\n",
       "    <tr style=\"text-align: right;\">\n",
       "      <th></th>\n",
       "      <th>player_name</th>\n",
       "      <th>num_seasons</th>\n",
       "      <th>career_net_rating</th>\n",
       "      <th>draft_number</th>\n",
       "      <th>draft_year</th>\n",
       "      <th>clustering_coefficient</th>\n",
       "    </tr>\n",
       "  </thead>\n",
       "  <tbody>\n",
       "    <tr>\n",
       "      <th>6</th>\n",
       "      <td>Aaron Gordon</td>\n",
       "      <td>8</td>\n",
       "      <td>-0.387500</td>\n",
       "      <td>4</td>\n",
       "      <td>2014</td>\n",
       "      <td>0.000000</td>\n",
       "    </tr>\n",
       "    <tr>\n",
       "      <th>12</th>\n",
       "      <td>Aaron McKie</td>\n",
       "      <td>11</td>\n",
       "      <td>0.672727</td>\n",
       "      <td>17</td>\n",
       "      <td>1994</td>\n",
       "      <td>1.000000</td>\n",
       "    </tr>\n",
       "    <tr>\n",
       "      <th>16</th>\n",
       "      <td>Aaron Williams</td>\n",
       "      <td>12</td>\n",
       "      <td>-5.050000</td>\n",
       "      <td>-1</td>\n",
       "      <td>-1</td>\n",
       "      <td>0.333333</td>\n",
       "    </tr>\n",
       "    <tr>\n",
       "      <th>21</th>\n",
       "      <td>Adam Keefe</td>\n",
       "      <td>5</td>\n",
       "      <td>1.620000</td>\n",
       "      <td>10</td>\n",
       "      <td>1992</td>\n",
       "      <td>1.000000</td>\n",
       "    </tr>\n",
       "    <tr>\n",
       "      <th>26</th>\n",
       "      <td>Adonal Foyle</td>\n",
       "      <td>12</td>\n",
       "      <td>-4.400000</td>\n",
       "      <td>8</td>\n",
       "      <td>1997</td>\n",
       "      <td>0.392857</td>\n",
       "    </tr>\n",
       "    <tr>\n",
       "      <th>...</th>\n",
       "      <td>...</td>\n",
       "      <td>...</td>\n",
       "      <td>...</td>\n",
       "      <td>...</td>\n",
       "      <td>...</td>\n",
       "      <td>...</td>\n",
       "    </tr>\n",
       "    <tr>\n",
       "      <th>2422</th>\n",
       "      <td>Wilson Chandler</td>\n",
       "      <td>12</td>\n",
       "      <td>-1.358333</td>\n",
       "      <td>23</td>\n",
       "      <td>2007</td>\n",
       "      <td>1.000000</td>\n",
       "    </tr>\n",
       "    <tr>\n",
       "      <th>2434</th>\n",
       "      <td>Yao Ming</td>\n",
       "      <td>8</td>\n",
       "      <td>2.012500</td>\n",
       "      <td>1</td>\n",
       "      <td>2002</td>\n",
       "      <td>1.000000</td>\n",
       "    </tr>\n",
       "    <tr>\n",
       "      <th>2447</th>\n",
       "      <td>Zach Randolph</td>\n",
       "      <td>17</td>\n",
       "      <td>-2.158824</td>\n",
       "      <td>19</td>\n",
       "      <td>2001</td>\n",
       "      <td>1.000000</td>\n",
       "    </tr>\n",
       "    <tr>\n",
       "      <th>2451</th>\n",
       "      <td>Zaza Pachulia</td>\n",
       "      <td>16</td>\n",
       "      <td>0.350000</td>\n",
       "      <td>42</td>\n",
       "      <td>2003</td>\n",
       "      <td>1.000000</td>\n",
       "    </tr>\n",
       "    <tr>\n",
       "      <th>2461</th>\n",
       "      <td>Zydrunas Ilgauskas</td>\n",
       "      <td>13</td>\n",
       "      <td>2.107692</td>\n",
       "      <td>20</td>\n",
       "      <td>1996</td>\n",
       "      <td>0.000000</td>\n",
       "    </tr>\n",
       "  </tbody>\n",
       "</table>\n",
       "<p>496 rows × 6 columns</p>\n",
       "</div>"
      ],
      "text/plain": [
       "             player_name  num_seasons  career_net_rating  draft_number  \\\n",
       "6           Aaron Gordon            8          -0.387500             4   \n",
       "12           Aaron McKie           11           0.672727            17   \n",
       "16        Aaron Williams           12          -5.050000            -1   \n",
       "21            Adam Keefe            5           1.620000            10   \n",
       "26          Adonal Foyle           12          -4.400000             8   \n",
       "...                  ...          ...                ...           ...   \n",
       "2422     Wilson Chandler           12          -1.358333            23   \n",
       "2434            Yao Ming            8           2.012500             1   \n",
       "2447       Zach Randolph           17          -2.158824            19   \n",
       "2451       Zaza Pachulia           16           0.350000            42   \n",
       "2461  Zydrunas Ilgauskas           13           2.107692            20   \n",
       "\n",
       "      draft_year  clustering_coefficient  \n",
       "6           2014                0.000000  \n",
       "12          1994                1.000000  \n",
       "16            -1                0.333333  \n",
       "21          1992                1.000000  \n",
       "26          1997                0.392857  \n",
       "...          ...                     ...  \n",
       "2422        2007                1.000000  \n",
       "2434        2002                1.000000  \n",
       "2447        2001                1.000000  \n",
       "2451        2003                1.000000  \n",
       "2461        1996                0.000000  \n",
       "\n",
       "[496 rows x 6 columns]"
      ]
     },
     "execution_count": 20,
     "metadata": {},
     "output_type": "execute_result"
    }
   ],
   "source": [
    "lista_clustering =[]\n",
    "#pegar valores de clustering_coefficient dos jogadores que estao no dataframe df_career\n",
    "for index,row in data_clustering.iterrows():\n",
    "    if row['nome'] in df_career_filtered['player_name'].values:\n",
    "        lista_clustering.append(row['clustering'])\n",
    "df_career_filtered['clustering_coefficient'] = lista_clustering\n",
    "df_career_filtered"
   ]
  },
  {
   "cell_type": "code",
   "execution_count": 21,
   "id": "7af18b3d",
   "metadata": {},
   "outputs": [],
   "source": [
    "# Descomente para rodar para cada recorte\n",
    "\n",
    "# Primeiro Recorte\n",
    "\n",
    "# df_career_filtered = df_career_filtered[df_career_filtered['draft_year'] >= 2003]\n",
    "# df_career_filtered = df_career_filtered[df_career_filtered['draft_number'] <= 10]\n",
    "# df_career_filtered = df_career_filtered[df_career_filtered['career_net_rating'] >= -5]\n",
    "# # df_career_filtered = df_career_filtered[df_career_filtered['num_seasons'] >= 5]\n",
    "# # df_career_filtered.shape\n",
    "\n",
    "\n",
    "# Segundo Recorte\n"
   ]
  },
  {
   "cell_type": "markdown",
   "id": "fe3e6a3f",
   "metadata": {},
   "source": [
    "### Regressão Linear"
   ]
  },
  {
   "cell_type": "markdown",
   "id": "853acf08",
   "metadata": {},
   "source": [
    "### Experiência vs potencial"
   ]
  },
  {
   "cell_type": "code",
   "execution_count": 22,
   "id": "9ecb4f8a",
   "metadata": {},
   "outputs": [],
   "source": [
    "import regression as reg\n",
    "\n",
    "from scipy import stats\n",
    "\n",
    "result=reg.linear(data=df_career_filtered,formula=' num_seasons~draft_number')\n"
   ]
  },
  {
   "cell_type": "code",
   "execution_count": 23,
   "id": "b115d4fc",
   "metadata": {},
   "outputs": [
    {
     "data": {
      "text/html": [
       "<style type=\"text/css\">\n",
       "</style>\n",
       "<table id=\"T_b039b\">\n",
       "  <thead>\n",
       "    <tr>\n",
       "      <th id=\"T_b039b_level0_col0\" class=\"col_heading level0 col0\" >variable</th>\n",
       "      <th id=\"T_b039b_level0_col1\" class=\"col_heading level0 col1\" >coefficient</th>\n",
       "      <th id=\"T_b039b_level0_col2\" class=\"col_heading level0 col2\" >std error</th>\n",
       "      <th id=\"T_b039b_level0_col3\" class=\"col_heading level0 col3\" >p-value</th>\n",
       "    </tr>\n",
       "  </thead>\n",
       "  <tbody>\n",
       "    <tr>\n",
       "      <td id=\"T_b039b_row0_col0\" class=\"data row0 col0\" >draft_number</td>\n",
       "      <td id=\"T_b039b_row0_col1\" class=\"data row0 col1\" >-0.027202</td>\n",
       "      <td id=\"T_b039b_row0_col2\" class=\"data row0 col2\" >0.011063</td>\n",
       "      <td id=\"T_b039b_row0_col3\" class=\"data row0 col3\" >0.014284</td>\n",
       "    </tr>\n",
       "  </tbody>\n",
       "</table>\n"
      ],
      "text/plain": [
       "<pandas.io.formats.style.Styler at 0x7fdb9aafa830>"
      ]
     },
     "execution_count": 23,
     "metadata": {},
     "output_type": "execute_result"
    }
   ],
   "source": [
    "result.micro_summary()"
   ]
  },
  {
   "cell_type": "code",
   "execution_count": 24,
   "id": "f54ca70c",
   "metadata": {},
   "outputs": [
    {
     "data": {
      "image/png": "[encoded data removed]",
      "text/plain": [
       "<Figure size 1280x480 with 2 Axes>"
      ]
     },
     "metadata": {},
     "output_type": "display_data"
    }
   ],
   "source": [
    "result.plot_residuals(df_career_filtered['draft_number'])"
   ]
  },
  {
   "cell_type": "markdown",
   "id": "bbaaf981",
   "metadata": {},
   "source": [
    "### Experiência vs Impacto"
   ]
  },
  {
   "cell_type": "code",
   "execution_count": 25,
   "id": "21f78098",
   "metadata": {},
   "outputs": [],
   "source": [
    "import regression as reg\n",
    "\n",
    "from scipy import stats\n",
    "\n",
    "result=reg.linear(data=df_career_filtered,formula=' num_seasons~career_net_rating')"
   ]
  },
  {
   "cell_type": "code",
   "execution_count": 26,
   "id": "ce642dd4",
   "metadata": {},
   "outputs": [
    {
     "data": {
      "text/html": [
       "<style type=\"text/css\">\n",
       "</style>\n",
       "<table id=\"T_8a101\">\n",
       "  <thead>\n",
       "    <tr>\n",
       "      <th id=\"T_8a101_level0_col0\" class=\"col_heading level0 col0\" >variable</th>\n",
       "      <th id=\"T_8a101_level0_col1\" class=\"col_heading level0 col1\" >coefficient</th>\n",
       "      <th id=\"T_8a101_level0_col2\" class=\"col_heading level0 col2\" >std error</th>\n",
       "      <th id=\"T_8a101_level0_col3\" class=\"col_heading level0 col3\" >p-value</th>\n",
       "    </tr>\n",
       "  </thead>\n",
       "  <tbody>\n",
       "    <tr>\n",
       "      <td id=\"T_8a101_row0_col0\" class=\"data row0 col0\" >career_net_rating</td>\n",
       "      <td id=\"T_8a101_row0_col1\" class=\"data row0 col1\" >0.179379</td>\n",
       "      <td id=\"T_8a101_row0_col2\" class=\"data row0 col2\" >0.038942</td>\n",
       "      <td id=\"T_8a101_row0_col3\" class=\"data row0 col3\" >0.000005</td>\n",
       "    </tr>\n",
       "  </tbody>\n",
       "</table>\n"
      ],
      "text/plain": [
       "<pandas.io.formats.style.Styler at 0x7fdb9aafa8f0>"
      ]
     },
     "execution_count": 26,
     "metadata": {},
     "output_type": "execute_result"
    }
   ],
   "source": [
    "result.micro_summary()"
   ]
  },
  {
   "cell_type": "code",
   "execution_count": 27,
   "id": "c993064f",
   "metadata": {},
   "outputs": [
    {
     "data": {
      "image/png": "[encoded data removed]",
      "text/plain": [
       "<Figure size 1280x480 with 2 Axes>"
      ]
     },
     "metadata": {},
     "output_type": "display_data"
    }
   ],
   "source": [
    "result.plot_residuals(df_career_filtered['career_net_rating'])"
   ]
  },
  {
   "cell_type": "markdown",
   "id": "4d72393f",
   "metadata": {},
   "source": [
    "### Experiência vs adaptabilidade"
   ]
  },
  {
   "cell_type": "code",
   "execution_count": 28,
   "id": "5165cef8",
   "metadata": {},
   "outputs": [],
   "source": [
    "import regression as reg\n",
    "\n",
    "from scipy import stats\n",
    "\n",
    "result=reg.linear(data=df_career_filtered,formula='num_seasons~clustering_coefficient')"
   ]
  },
  {
   "cell_type": "code",
   "execution_count": 29,
   "id": "2425f6fb",
   "metadata": {},
   "outputs": [
    {
     "data": {
      "text/html": [
       "<style type=\"text/css\">\n",
       "</style>\n",
       "<table id=\"T_408f9\">\n",
       "  <thead>\n",
       "    <tr>\n",
       "      <th id=\"T_408f9_level0_col0\" class=\"col_heading level0 col0\" >variable</th>\n",
       "      <th id=\"T_408f9_level0_col1\" class=\"col_heading level0 col1\" >coefficient</th>\n",
       "      <th id=\"T_408f9_level0_col2\" class=\"col_heading level0 col2\" >std error</th>\n",
       "      <th id=\"T_408f9_level0_col3\" class=\"col_heading level0 col3\" >p-value</th>\n",
       "    </tr>\n",
       "  </thead>\n",
       "  <tbody>\n",
       "    <tr>\n",
       "      <td id=\"T_408f9_row0_col0\" class=\"data row0 col0\" >clustering_coefficient</td>\n",
       "      <td id=\"T_408f9_row0_col1\" class=\"data row0 col1\" >0.441449</td>\n",
       "      <td id=\"T_408f9_row0_col2\" class=\"data row0 col2\" >0.492483</td>\n",
       "      <td id=\"T_408f9_row0_col3\" class=\"data row0 col3\" >0.370489</td>\n",
       "    </tr>\n",
       "  </tbody>\n",
       "</table>\n"
      ],
      "text/plain": [
       "<pandas.io.formats.style.Styler at 0x7fdb9aafb760>"
      ]
     },
     "execution_count": 29,
     "metadata": {},
     "output_type": "execute_result"
    }
   ],
   "source": [
    "result.micro_summary()"
   ]
  },
  {
   "cell_type": "code",
   "execution_count": 30,
   "id": "66170a1e",
   "metadata": {},
   "outputs": [
    {
     "data": {
      "image/png": "[encoded data removed]",
      "text/plain": [
       "<Figure size 1280x480 with 2 Axes>"
      ]
     },
     "metadata": {},
     "output_type": "display_data"
    }
   ],
   "source": [
    "result.plot_residuals(df_career_filtered['clustering_coefficient'])"
   ]
  },
  {
   "cell_type": "markdown",
   "id": "cac5473b",
   "metadata": {},
   "source": [
    "### Análise Multivariada"
   ]
  },
  {
   "cell_type": "code",
   "execution_count": 31,
   "id": "62ac8c13",
   "metadata": {},
   "outputs": [
    {
     "data": {
      "text/html": [
       "<style type=\"text/css\">\n",
       "</style>\n",
       "<table id=\"T_d086b\">\n",
       "  <thead>\n",
       "    <tr>\n",
       "      <th id=\"T_d086b_level0_col0\" class=\"col_heading level0 col0\" >variable</th>\n",
       "      <th id=\"T_d086b_level0_col1\" class=\"col_heading level0 col1\" >coefficient</th>\n",
       "      <th id=\"T_d086b_level0_col2\" class=\"col_heading level0 col2\" >std error</th>\n",
       "      <th id=\"T_d086b_level0_col3\" class=\"col_heading level0 col3\" >p-value</th>\n",
       "    </tr>\n",
       "  </thead>\n",
       "  <tbody>\n",
       "    <tr>\n",
       "      <td id=\"T_d086b_row0_col0\" class=\"data row0 col0\" >draft_number</td>\n",
       "      <td id=\"T_d086b_row0_col1\" class=\"data row0 col1\" >-0.027987</td>\n",
       "      <td id=\"T_d086b_row0_col2\" class=\"data row0 col2\" >0.010846</td>\n",
       "      <td id=\"T_d086b_row0_col3\" class=\"data row0 col3\" >0.010155</td>\n",
       "    </tr>\n",
       "    <tr>\n",
       "      <td id=\"T_d086b_row1_col0\" class=\"data row1 col0\" >career_net_rating</td>\n",
       "      <td id=\"T_d086b_row1_col1\" class=\"data row1 col1\" >0.179341</td>\n",
       "      <td id=\"T_d086b_row1_col2\" class=\"data row1 col2\" >0.038772</td>\n",
       "      <td id=\"T_d086b_row1_col3\" class=\"data row1 col3\" >0.000005</td>\n",
       "    </tr>\n",
       "    <tr>\n",
       "      <td id=\"T_d086b_row2_col0\" class=\"data row2 col0\" >clustering_coefficient</td>\n",
       "      <td id=\"T_d086b_row2_col1\" class=\"data row2 col1\" >0.380971</td>\n",
       "      <td id=\"T_d086b_row2_col2\" class=\"data row2 col2\" >0.480600</td>\n",
       "      <td id=\"T_d086b_row2_col3\" class=\"data row2 col3\" >0.428335</td>\n",
       "    </tr>\n",
       "  </tbody>\n",
       "</table>\n"
      ],
      "text/plain": [
       "<pandas.io.formats.style.Styler at 0x7fdb92dc1240>"
      ]
     },
     "execution_count": 31,
     "metadata": {},
     "output_type": "execute_result"
    }
   ],
   "source": [
    "result=reg.linear(data=df_career_filtered,formula=' num_seasons~draft_number+career_net_rating+clustering_coefficient')\n",
    "result.micro_summary()"
   ]
  },
  {
   "cell_type": "markdown",
   "id": "5664acae",
   "metadata": {},
   "source": [
    "### Gráficos de Residuos\n"
   ]
  },
  {
   "cell_type": "code",
   "execution_count": 32,
   "id": "50d6e433",
   "metadata": {},
   "outputs": [
    {
     "data": {
      "image/png": "[encoded data removed]",
      "text/plain": [
       "<Figure size 1280x480 with 2 Axes>"
      ]
     },
     "metadata": {},
     "output_type": "display_data"
    }
   ],
   "source": [
    "result.plot_residuals()"
   ]
  },
  {
   "cell_type": "code",
   "execution_count": null,
   "id": "47eb53ca",
   "metadata": {},
   "outputs": [],
   "source": []
  },
  {
   "cell_type": "code",
   "execution_count": null,
   "id": "ba8af422",
   "metadata": {},
   "outputs": [],
   "source": []
  },
  {
   "cell_type": "code",
   "execution_count": null,
   "id": "b59cbc15",
   "metadata": {},
   "outputs": [],
   "source": []
  }
 ],
 "metadata": {
  "kernelspec": {
   "display_name": "Python 3 (ipykernel)",
   "language": "python",
   "name": "python3"
  },
  "language_info": {
   "codemirror_mode": {
    "name": "ipython",
    "version": 3
   },
   "file_extension": ".py",
   "mimetype": "text/x-python",
   "name": "python",
   "nbconvert_exporter": "python",
   "pygments_lexer": "ipython3",
   "version": "3.10.10"
  }
 },
 "nbformat": 4,
 "nbformat_minor": 5
}
