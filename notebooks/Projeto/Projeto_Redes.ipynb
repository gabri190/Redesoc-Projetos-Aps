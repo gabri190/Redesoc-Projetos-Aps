{
 "cells": [
  {
   "cell_type": "markdown",
   "id": "3887f10f",
   "metadata": {},
   "source": [
    "### Importando bibliotecas necessárias"
   ]
  },
  {
   "cell_type": "code",
   "execution_count": 57,
   "id": "d36be389",
   "metadata": {},
   "outputs": [],
   "source": [
    "import pandas as pd\n",
    "import csv\n",
    "from graph_tool import Graph\n",
    "import os\n",
    "from graph_tool import util\n",
    "import netpixi\n",
    "import pickle\n",
    "\n",
    "from regression.integration.gt import *\n",
    "from netpixi.integration.gt import *"
   ]
  },
  {
   "cell_type": "markdown",
   "id": "f1c39b7d",
   "metadata": {},
   "source": [
    "### Dataset NBA players"
   ]
  },
  {
   "cell_type": "code",
   "execution_count": 58,
   "id": "558d111e",
   "metadata": {},
   "outputs": [
    {
     "data": {
      "text/html": [
       "<div>\n",
       "<style scoped>\n",
       "    .dataframe tbody tr th:only-of-type {\n",
       "        vertical-align: middle;\n",
       "    }\n",
       "\n",
       "    .dataframe tbody tr th {\n",
       "        vertical-align: top;\n",
       "    }\n",
       "\n",
       "    .dataframe thead th {\n",
       "        text-align: right;\n",
       "    }\n",
       "</style>\n",
       "<table border=\"1\" class=\"dataframe\">\n",
       "  <thead>\n",
       "    <tr style=\"text-align: right;\">\n",
       "      <th></th>\n",
       "      <th>player_name</th>\n",
       "      <th>team_abbreviation</th>\n",
       "      <th>season</th>\n",
       "    </tr>\n",
       "  </thead>\n",
       "  <tbody>\n",
       "    <tr>\n",
       "      <th>0</th>\n",
       "      <td>Dennis Rodman</td>\n",
       "      <td>CHI</td>\n",
       "      <td>1996-97</td>\n",
       "    </tr>\n",
       "    <tr>\n",
       "      <th>1</th>\n",
       "      <td>Dwayne Schintzius</td>\n",
       "      <td>LAC</td>\n",
       "      <td>1996-97</td>\n",
       "    </tr>\n",
       "    <tr>\n",
       "      <th>2</th>\n",
       "      <td>Earl Cureton</td>\n",
       "      <td>TOR</td>\n",
       "      <td>1996-97</td>\n",
       "    </tr>\n",
       "    <tr>\n",
       "      <th>3</th>\n",
       "      <td>Ed O'Bannon</td>\n",
       "      <td>DAL</td>\n",
       "      <td>1996-97</td>\n",
       "    </tr>\n",
       "    <tr>\n",
       "      <th>4</th>\n",
       "      <td>Ed Pinckney</td>\n",
       "      <td>MIA</td>\n",
       "      <td>1996-97</td>\n",
       "    </tr>\n",
       "    <tr>\n",
       "      <th>...</th>\n",
       "      <td>...</td>\n",
       "      <td>...</td>\n",
       "      <td>...</td>\n",
       "    </tr>\n",
       "    <tr>\n",
       "      <th>12300</th>\n",
       "      <td>Markieff Morris</td>\n",
       "      <td>MIA</td>\n",
       "      <td>2021-22</td>\n",
       "    </tr>\n",
       "    <tr>\n",
       "      <th>12301</th>\n",
       "      <td>Markelle Fultz</td>\n",
       "      <td>ORL</td>\n",
       "      <td>2021-22</td>\n",
       "    </tr>\n",
       "    <tr>\n",
       "      <th>12302</th>\n",
       "      <td>Marcus Smart</td>\n",
       "      <td>BOS</td>\n",
       "      <td>2021-22</td>\n",
       "    </tr>\n",
       "    <tr>\n",
       "      <th>12303</th>\n",
       "      <td>Marcus Garrett</td>\n",
       "      <td>MIA</td>\n",
       "      <td>2021-22</td>\n",
       "    </tr>\n",
       "    <tr>\n",
       "      <th>12304</th>\n",
       "      <td>Micah Potter</td>\n",
       "      <td>DET</td>\n",
       "      <td>2021-22</td>\n",
       "    </tr>\n",
       "  </tbody>\n",
       "</table>\n",
       "<p>12305 rows × 3 columns</p>\n",
       "</div>"
      ],
      "text/plain": [
       "             player_name team_abbreviation   season\n",
       "0          Dennis Rodman               CHI  1996-97\n",
       "1      Dwayne Schintzius               LAC  1996-97\n",
       "2           Earl Cureton               TOR  1996-97\n",
       "3            Ed O'Bannon               DAL  1996-97\n",
       "4            Ed Pinckney               MIA  1996-97\n",
       "...                  ...               ...      ...\n",
       "12300    Markieff Morris               MIA  2021-22\n",
       "12301     Markelle Fultz               ORL  2021-22\n",
       "12302       Marcus Smart               BOS  2021-22\n",
       "12303     Marcus Garrett               MIA  2021-22\n",
       "12304       Micah Potter               DET  2021-22\n",
       "\n",
       "[12305 rows x 3 columns]"
      ]
     },
     "execution_count": 58,
     "metadata": {},
     "output_type": "execute_result"
    }
   ],
   "source": [
    "import pandas as pd\n",
    "df=pd.read_csv(\"all_seasons.csv\")\n",
    "df_new=df[['player_name','team_abbreviation','season']]\n",
    "df_new"
   ]
  },
  {
   "cell_type": "markdown",
   "id": "fba44202",
   "metadata": {},
   "source": [
    "### Criação do grafo"
   ]
  },
  {
   "cell_type": "code",
   "execution_count": 59,
   "id": "1a7a427d",
   "metadata": {},
   "outputs": [],
   "source": [
    "from netpixi.integration.gt import Graph\n",
    "\n",
    "g = Graph(directed=False) # não dirigido"
   ]
  },
  {
   "cell_type": "code",
   "execution_count": 60,
   "id": "c0d7feb9",
   "metadata": {},
   "outputs": [],
   "source": [
    "# lista de jogadores\n",
    "players = df_new['player_name'].unique().tolist()"
   ]
  },
  {
   "cell_type": "code",
   "execution_count": 61,
   "id": "2ec0e847",
   "metadata": {},
   "outputs": [],
   "source": [
    "# adicionar nós para cada jogador\n",
    "for player in players:\n",
    "    g.add_vertex(player)"
   ]
  },
  {
   "cell_type": "code",
   "execution_count": 62,
   "id": "d50c4426",
   "metadata": {},
   "outputs": [],
   "source": [
    "# filtra os jogadores que jogaram juntos em uma temporada\n",
    "df_filtered = df_new.groupby(['team_abbreviation', 'season']).filter(lambda x: len(x) > 1)\n",
    "\n",
    "# adiciona as arestas ao grafo\n",
    "for _, group in df_filtered.groupby(['team_abbreviation', 'season']):\n",
    "    players = group['player_name'].tolist()\n",
    "    for i in range(len(players)):\n",
    "        for j in range(i+1, len(players)):\n",
    "            # verifica se a aresta já existe no grafo\n",
    "            if not g.has_edge(players[i], players[j]):\n",
    "                # adiciona a aresta ao grafo\n",
    "                g.add_edge(players[i], players[j])"
   ]
  },
  {
   "cell_type": "markdown",
   "id": "739f5651",
   "metadata": {},
   "source": [
    "### Análise Exploratória"
   ]
  },
  {
   "cell_type": "markdown",
   "id": "07ca22f9",
   "metadata": {},
   "source": [
    "#### a) Numero de vertices,arestas,densidade"
   ]
  },
  {
   "cell_type": "code",
   "execution_count": 63,
   "id": "28adfb5c",
   "metadata": {},
   "outputs": [
    {
     "name": "stdout",
     "output_type": "stream",
     "text": [
      "O número de vértices é 2463\n"
     ]
    }
   ],
   "source": [
    "#número de vértices\n",
    "n = g.num_vertices()\n",
    "print('O número de vértices é {0}'.format(n))"
   ]
  },
  {
   "cell_type": "code",
   "execution_count": 64,
   "id": "30e62aea",
   "metadata": {},
   "outputs": [
    {
     "name": "stdout",
     "output_type": "stream",
     "text": [
      "O número de arestas é 70255\n"
     ]
    }
   ],
   "source": [
    "#número de arestas\n",
    "m = g.num_edges()\n",
    "print('O número de arestas é {0}'.format(m))"
   ]
  },
  {
   "cell_type": "code",
   "execution_count": 65,
   "id": "1b8cb016",
   "metadata": {},
   "outputs": [
    {
     "name": "stdout",
     "output_type": "stream",
     "text": [
      "A densidade é 0.0116\n"
     ]
    }
   ],
   "source": [
    "##densidade\n",
    "max_edges = n * (n - 1)\n",
    "d = m / max_edges\n",
    "print('A densidade é {0}'.format(round(d,4)))"
   ]
  },
  {
   "cell_type": "code",
   "execution_count": 66,
   "id": "238797d4",
   "metadata": {},
   "outputs": [
    {
     "data": {
      "text/html": [
       "<div>\n",
       "<style scoped>\n",
       "    .dataframe tbody tr th:only-of-type {\n",
       "        vertical-align: middle;\n",
       "    }\n",
       "\n",
       "    .dataframe tbody tr th {\n",
       "        vertical-align: top;\n",
       "    }\n",
       "\n",
       "    .dataframe thead th {\n",
       "        text-align: right;\n",
       "    }\n",
       "</style>\n",
       "<table border=\"1\" class=\"dataframe\">\n",
       "  <thead>\n",
       "    <tr style=\"text-align: right;\">\n",
       "      <th></th>\n",
       "      <th>id</th>\n",
       "    </tr>\n",
       "  </thead>\n",
       "  <tbody>\n",
       "    <tr>\n",
       "      <th>0</th>\n",
       "      <td>Dennis Rodman</td>\n",
       "    </tr>\n",
       "    <tr>\n",
       "      <th>1</th>\n",
       "      <td>Dwayne Schintzius</td>\n",
       "    </tr>\n",
       "    <tr>\n",
       "      <th>2</th>\n",
       "      <td>Earl Cureton</td>\n",
       "    </tr>\n",
       "    <tr>\n",
       "      <th>3</th>\n",
       "      <td>Ed O'Bannon</td>\n",
       "    </tr>\n",
       "    <tr>\n",
       "      <th>4</th>\n",
       "      <td>Ed Pinckney</td>\n",
       "    </tr>\n",
       "  </tbody>\n",
       "</table>\n",
       "</div>"
      ],
      "text/plain": [
       "                  id\n",
       "0      Dennis Rodman\n",
       "1  Dwayne Schintzius\n",
       "2       Earl Cureton\n",
       "3        Ed O'Bannon\n",
       "4        Ed Pinckney"
      ]
     },
     "execution_count": 66,
     "metadata": {},
     "output_type": "execute_result"
    }
   ],
   "source": [
    "data_targets = pd.DataFrame({k: list(v) for k, v in g.vp.items()})\n",
    "data_targets.head()"
   ]
  },
  {
   "cell_type": "markdown",
   "id": "8d239352",
   "metadata": {},
   "source": [
    "#### B) Estatísticas e histograma do degree. (não é necessário in-degree e out-degree)"
   ]
  },
  {
   "cell_type": "code",
   "execution_count": 67,
   "id": "3aaf5ec7",
   "metadata": {},
   "outputs": [
    {
     "name": "stdout",
     "output_type": "stream",
     "text": [
      "<class 'pandas.core.frame.DataFrame'>\n",
      "RangeIndex: 2463 entries, 0 to 2462\n",
      "Data columns (total 2 columns):\n",
      " #   Column  Non-Null Count  Dtype \n",
      "---  ------  --------------  ----- \n",
      " 0   id      2463 non-null   object\n",
      " 1   degree  2463 non-null   int64 \n",
      "dtypes: int64(1), object(1)\n",
      "memory usage: 38.6+ KB\n"
     ]
    }
   ],
   "source": [
    "degrees = []\n",
    "for v in g.all_vertices():\n",
    "    degrees.append(v.total_degree())\n",
    "\n",
    "data_targets['degree'] = degrees\n",
    "data_targets.info()"
   ]
  },
  {
   "cell_type": "code",
   "execution_count": 71,
   "id": "296e2073",
   "metadata": {},
   "outputs": [
    {
     "data": {
      "text/plain": [
       "count    2463.000000\n",
       "mean       57.048315\n",
       "std        40.540596\n",
       "min        12.000000\n",
       "25%        23.000000\n",
       "50%        45.000000\n",
       "75%        82.000000\n",
       "max       226.000000\n",
       "Name: degree, dtype: float64"
      ]
     },
     "execution_count": 71,
     "metadata": {},
     "output_type": "execute_result"
    },
    {
     "data": {
      "image/png": "[encoded data removed]",
      "text/plain": [
       "<Figure size 640x480 with 1 Axes>"
      ]
     },
     "metadata": {},
     "output_type": "display_data"
    }
   ],
   "source": [
    "import seaborn as sns\n",
    "sns.histplot(data_targets['degree'])\n",
    "data_targets['degree'].describe()"
   ]
  },
  {
   "cell_type": "markdown",
   "id": "b49cd934",
   "metadata": {},
   "source": [
    "### Análise Visual do Grafo"
   ]
  },
  {
   "cell_type": "markdown",
   "id": "845265fb",
   "metadata": {},
   "source": [
    "#### A) Salvando o arquivo"
   ]
  },
  {
   "cell_type": "code",
   "execution_count": 69,
   "id": "3c270f16",
   "metadata": {},
   "outputs": [],
   "source": [
    "gt_save(g,'Nba_teams.gz')\n",
    "g = gt_clean(g)"
   ]
  },
  {
   "cell_type": "markdown",
   "id": "9e3d9d9e",
   "metadata": {},
   "source": [
    "#### B) Visualizando o grafo"
   ]
  },
  {
   "cell_type": "code",
   "execution_count": 70,
   "id": "8dc9bc0a",
   "metadata": {
    "scrolled": true
   },
   "outputs": [
    {
     "data": {
      "text/html": [
       "\n",
       "        <div id=\"Js9Q6J3G6B25EVD2BcQtu9\"></div>\n",
       "        <script>netpixi.render('Js9Q6J3G6B25EVD2BcQtu9', 'Nba_teams.gz', 1.7777777777777777, true, true, false);</script>\n",
       "    "
      ],
      "text/plain": [
       "<IPython.core.display.HTML object>"
      ]
     },
     "metadata": {},
     "output_type": "display_data"
    }
   ],
   "source": [
    "g = gt_load('../notebooks/Nba_teams.gz')\n",
    "m = gt_draw.sfdp_layout(g)\n",
    "gt_move(g, m)\n",
    "r=netpixi.render('Nba_teams.gz',infinite=True);"
   ]
  },
  {
   "cell_type": "markdown",
   "id": "312a54db",
   "metadata": {},
   "source": [
    "#### C) Ajustando as propriedades visuais do grafo"
   ]
  },
  {
   "cell_type": "code",
   "execution_count": 72,
   "id": "9e6b29f3",
   "metadata": {},
   "outputs": [],
   "source": [
    "# # mudar a cor de fundo do grafo\n",
    "# r.graph(color=0xdddddd)\n",
    "\n",
    "# # mudar a cor e o tamanho dos vértices\n",
    "# r.vertex_default(color=0xcccccc, size=15)\n",
    "\n",
    "# # mudar a cor, a espessura e a curvatura das arestas\n",
    "# r.edge_default(color=0x000000, width=3, curve1=2, curve2=2)"
   ]
  }
 ],
 "metadata": {
  "kernelspec": {
   "display_name": "Python 3 (ipykernel)",
   "language": "python",
   "name": "python3"
  },
  "language_info": {
   "codemirror_mode": {
    "name": "ipython",
    "version": 3
   },
   "file_extension": ".py",
   "mimetype": "text/x-python",
   "name": "python",
   "nbconvert_exporter": "python",
   "pygments_lexer": "ipython3",
   "version": "3.10.10"
  }
 },
 "nbformat": 4,
 "nbformat_minor": 5
}
