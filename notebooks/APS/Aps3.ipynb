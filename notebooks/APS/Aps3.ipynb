{
 "cells": [
  {
   "cell_type": "markdown",
   "id": "70cdfe5c",
   "metadata": {},
   "source": [
    "## Redes sociais - APS 3"
   ]
  },
  {
   "cell_type": "markdown",
   "id": "eb3035bd",
   "metadata": {},
   "source": [
    "Diogo Duarte, Pedro Dannecker e Gabriel de Araújo Alves"
   ]
  },
  {
   "cell_type": "markdown",
   "id": "6a6d93bb",
   "metadata": {},
   "source": [
    "### Importando bibliotecas"
   ]
  },
  {
   "cell_type": "code",
   "execution_count": 1,
   "id": "edf2ff16",
   "metadata": {},
   "outputs": [
    {
     "data": {
      "text/html": [
       "\n",
       "    <script src=\"/files/netpixi.min.js\"></script>\n"
      ],
      "text/plain": [
       "<IPython.core.display.HTML object>"
      ]
     },
     "metadata": {},
     "output_type": "display_data"
    }
   ],
   "source": [
    "import pandas as pd\n",
    "import csv\n",
    "from graph_tool import Graph\n",
    "import os\n",
    "from graph_tool import util\n",
    "# from netpixi.data.gt import *\n",
    "# import netpixi\n",
    "import netpixi\n",
    "\n",
    "from netpixi.integration.gt import *"
   ]
  },
  {
   "cell_type": "markdown",
   "id": "c6fcf7fd",
   "metadata": {},
   "source": [
    "### Inicializando o Dataframe"
   ]
  },
  {
   "cell_type": "code",
   "execution_count": 2,
   "id": "93969614",
   "metadata": {},
   "outputs": [
    {
     "name": "stderr",
     "output_type": "stream",
     "text": [
      "<frozen importlib._bootstrap>:914: ImportWarning: VendorImporter.find_spec() not found; falling back to find_module()\n"
     ]
    },
    {
     "data": {
      "text/html": [
       "<div>\n",
       "<style scoped>\n",
       "    .dataframe tbody tr th:only-of-type {\n",
       "        vertical-align: middle;\n",
       "    }\n",
       "\n",
       "    .dataframe tbody tr th {\n",
       "        vertical-align: top;\n",
       "    }\n",
       "\n",
       "    .dataframe thead th {\n",
       "        text-align: right;\n",
       "    }\n",
       "</style>\n",
       "<table border=\"1\" class=\"dataframe\">\n",
       "  <thead>\n",
       "    <tr style=\"text-align: right;\">\n",
       "      <th></th>\n",
       "      <th>node_1</th>\n",
       "      <th>node_2</th>\n",
       "    </tr>\n",
       "  </thead>\n",
       "  <tbody>\n",
       "    <tr>\n",
       "      <th>0</th>\n",
       "      <td>0</td>\n",
       "      <td>14270</td>\n",
       "    </tr>\n",
       "    <tr>\n",
       "      <th>1</th>\n",
       "      <td>0</td>\n",
       "      <td>16976</td>\n",
       "    </tr>\n",
       "    <tr>\n",
       "      <th>2</th>\n",
       "      <td>0</td>\n",
       "      <td>12029</td>\n",
       "    </tr>\n",
       "    <tr>\n",
       "      <th>3</th>\n",
       "      <td>0</td>\n",
       "      <td>3001</td>\n",
       "    </tr>\n",
       "    <tr>\n",
       "      <th>4</th>\n",
       "      <td>0</td>\n",
       "      <td>14581</td>\n",
       "    </tr>\n",
       "  </tbody>\n",
       "</table>\n",
       "</div>"
      ],
      "text/plain": [
       "   node_1  node_2\n",
       "0       0   14270\n",
       "1       0   16976\n",
       "2       0   12029\n",
       "3       0    3001\n",
       "4       0   14581"
      ]
     },
     "execution_count": 2,
     "metadata": {},
     "output_type": "execute_result"
    }
   ],
   "source": [
    "df = pd.read_csv('deezer_europe_edges.csv')\n",
    "df.head()"
   ]
  },
  {
   "cell_type": "markdown",
   "id": "c0fa873a",
   "metadata": {},
   "source": [
    "### Criando a lista de nós"
   ]
  },
  {
   "cell_type": "code",
   "execution_count": 3,
   "id": "a47a690a",
   "metadata": {},
   "outputs": [],
   "source": [
    "lista_nos = []\n",
    "i = 0\n",
    "while i <= 28280:\n",
    "    lista_nos.append(i)\n",
    "    i += 1\n"
   ]
  },
  {
   "cell_type": "markdown",
   "id": "40cabfc5",
   "metadata": {},
   "source": [
    "### Criando o grafo"
   ]
  },
  {
   "cell_type": "code",
   "execution_count": 4,
   "id": "2a6dbc98",
   "metadata": {},
   "outputs": [],
   "source": [
    "g = Graph(directed=False)"
   ]
  },
  {
   "cell_type": "markdown",
   "id": "ae61b39f",
   "metadata": {},
   "source": [
    "### Adicionando os nós"
   ]
  },
  {
   "cell_type": "code",
   "execution_count": 5,
   "id": "3f687876",
   "metadata": {},
   "outputs": [],
   "source": [
    "for person in lista_nos:\n",
    "    g.add_vertex(person)"
   ]
  },
  {
   "cell_type": "markdown",
   "id": "1a702905",
   "metadata": {},
   "source": [
    "### Adicionando as arestas"
   ]
  },
  {
   "cell_type": "code",
   "execution_count": 6,
   "id": "7a099b05",
   "metadata": {},
   "outputs": [],
   "source": [
    "list_node1 = list(df['node_1'])\n",
    "list_node2 = list(df['node_2'])"
   ]
  },
  {
   "cell_type": "code",
   "execution_count": 7,
   "id": "8c43ec04",
   "metadata": {},
   "outputs": [],
   "source": [
    "for l1, l2 in zip(list_node1, list_node2):\n",
    "     g.add_edge(l1,l2)"
   ]
  },
  {
   "cell_type": "markdown",
   "id": "b97dac13",
   "metadata": {},
   "source": [
    "### Análise Exploratória"
   ]
  },
  {
   "cell_type": "markdown",
   "id": "6877c1cd",
   "metadata": {},
   "source": [
    "#### A) Número de vértices, número de arestas, densidade"
   ]
  },
  {
   "cell_type": "code",
   "execution_count": 8,
   "id": "5050d231",
   "metadata": {},
   "outputs": [
    {
     "name": "stdout",
     "output_type": "stream",
     "text": [
      "O número de vértices é 28281\n"
     ]
    }
   ],
   "source": [
    "# Número de vértices\n",
    "n = g.num_vertices()\n",
    "print('O número de vértices é {0}'.format(n))\n"
   ]
  },
  {
   "cell_type": "code",
   "execution_count": 9,
   "id": "6aa661fe",
   "metadata": {},
   "outputs": [
    {
     "name": "stdout",
     "output_type": "stream",
     "text": [
      "O número de arestas é 92752\n"
     ]
    }
   ],
   "source": [
    "# Número de arestas\n",
    "m = g.num_edges()\n",
    "print('O número de arestas é {0}'.format(m))"
   ]
  },
  {
   "cell_type": "code",
   "execution_count": 10,
   "id": "5964bef4",
   "metadata": {},
   "outputs": [
    {
     "name": "stdout",
     "output_type": "stream",
     "text": [
      "A densidade é 0.0002\n"
     ]
    }
   ],
   "source": [
    "# Densidade\n",
    "if g.is_directed():\n",
    "    max_edges = n * (n - 1)\n",
    "else:\n",
    "    max_edges = n * (n - 1) // 2\n",
    "\n",
    "d = m / max_edges\n",
    "print('A densidade é {0}'.format(round(d,4)))"
   ]
  },
  {
   "cell_type": "markdown",
   "id": "a9cb318b",
   "metadata": {},
   "source": [
    "#### B) Estatísticas e histograma do degree. (não é necessário in-degree e out-degree)"
   ]
  },
  {
   "cell_type": "code",
   "execution_count": 11,
   "id": "a3bd90ba",
   "metadata": {},
   "outputs": [
    {
     "data": {
      "text/html": [
       "<div>\n",
       "<style scoped>\n",
       "    .dataframe tbody tr th:only-of-type {\n",
       "        vertical-align: middle;\n",
       "    }\n",
       "\n",
       "    .dataframe tbody tr th {\n",
       "        vertical-align: top;\n",
       "    }\n",
       "\n",
       "    .dataframe thead th {\n",
       "        text-align: right;\n",
       "    }\n",
       "</style>\n",
       "<table border=\"1\" class=\"dataframe\">\n",
       "  <thead>\n",
       "    <tr style=\"text-align: right;\">\n",
       "      <th></th>\n",
       "      <th>id</th>\n",
       "    </tr>\n",
       "  </thead>\n",
       "  <tbody>\n",
       "    <tr>\n",
       "      <th>0</th>\n",
       "      <td>0</td>\n",
       "    </tr>\n",
       "    <tr>\n",
       "      <th>1</th>\n",
       "      <td>1</td>\n",
       "    </tr>\n",
       "    <tr>\n",
       "      <th>2</th>\n",
       "      <td>2</td>\n",
       "    </tr>\n",
       "    <tr>\n",
       "      <th>3</th>\n",
       "      <td>3</td>\n",
       "    </tr>\n",
       "    <tr>\n",
       "      <th>4</th>\n",
       "      <td>4</td>\n",
       "    </tr>\n",
       "    <tr>\n",
       "      <th>...</th>\n",
       "      <td>...</td>\n",
       "    </tr>\n",
       "    <tr>\n",
       "      <th>28276</th>\n",
       "      <td>28276</td>\n",
       "    </tr>\n",
       "    <tr>\n",
       "      <th>28277</th>\n",
       "      <td>28277</td>\n",
       "    </tr>\n",
       "    <tr>\n",
       "      <th>28278</th>\n",
       "      <td>28278</td>\n",
       "    </tr>\n",
       "    <tr>\n",
       "      <th>28279</th>\n",
       "      <td>28279</td>\n",
       "    </tr>\n",
       "    <tr>\n",
       "      <th>28280</th>\n",
       "      <td>28280</td>\n",
       "    </tr>\n",
       "  </tbody>\n",
       "</table>\n",
       "<p>28281 rows × 1 columns</p>\n",
       "</div>"
      ],
      "text/plain": [
       "          id\n",
       "0          0\n",
       "1          1\n",
       "2          2\n",
       "3          3\n",
       "4          4\n",
       "...      ...\n",
       "28276  28276\n",
       "28277  28277\n",
       "28278  28278\n",
       "28279  28279\n",
       "28280  28280\n",
       "\n",
       "[28281 rows x 1 columns]"
      ]
     },
     "execution_count": 11,
     "metadata": {},
     "output_type": "execute_result"
    }
   ],
   "source": [
    "data_targets = pd.DataFrame({k: list(v) for k, v in g.vp.items()})\n",
    "data_targets"
   ]
  },
  {
   "cell_type": "code",
   "execution_count": 12,
   "id": "d6f3a759",
   "metadata": {},
   "outputs": [
    {
     "name": "stdout",
     "output_type": "stream",
     "text": [
      "<class 'pandas.core.frame.DataFrame'>\n",
      "RangeIndex: 28281 entries, 0 to 28280\n",
      "Data columns (total 2 columns):\n",
      " #   Column  Non-Null Count  Dtype\n",
      "---  ------  --------------  -----\n",
      " 0   id      28281 non-null  int64\n",
      " 1   degree  28281 non-null  int64\n",
      "dtypes: int64(2)\n",
      "memory usage: 442.0 KB\n"
     ]
    }
   ],
   "source": [
    "degrees = []\n",
    "for v in g.all_vertices():\n",
    "    degrees.append(v.total_degree())\n",
    "\n",
    "data_targets['degree'] = degrees\n",
    "data_targets.info()"
   ]
  },
  {
   "cell_type": "code",
   "execution_count": 13,
   "id": "b126cc7e",
   "metadata": {},
   "outputs": [
    {
     "name": "stderr",
     "output_type": "stream",
     "text": [
      "<frozen importlib._bootstrap>:914: ImportWarning: VendorImporter.find_spec() not found; falling back to find_module()\n"
     ]
    },
    {
     "data": {
      "text/plain": [
       "count    28281.000000\n",
       "mean         6.559315\n",
       "std          7.946138\n",
       "min          1.000000\n",
       "25%          2.000000\n",
       "50%          4.000000\n",
       "75%          8.000000\n",
       "max        172.000000\n",
       "Name: degree, dtype: float64"
      ]
     },
     "execution_count": 13,
     "metadata": {},
     "output_type": "execute_result"
    },
    {
     "data": {
      "image/png": "[encoded data removed]",
      "text/plain": [
       "<Figure size 640x480 with 1 Axes>"
      ]
     },
     "metadata": {},
     "output_type": "display_data"
    }
   ],
   "source": [
    "import seaborn as sns\n",
    "sns.histplot(data_targets['degree'])\n",
    "data_targets['degree'].describe()"
   ]
  },
  {
   "cell_type": "markdown",
   "id": "b28bce62",
   "metadata": {},
   "source": [
    "### Análise Visual do Grafo"
   ]
  },
  {
   "cell_type": "markdown",
   "id": "c0f83ec0",
   "metadata": {},
   "source": [
    "#### A) Salvando o arquivo"
   ]
  },
  {
   "cell_type": "code",
   "execution_count": null,
   "id": "e534668f",
   "metadata": {},
   "outputs": [],
   "source": []
  },
  {
   "cell_type": "markdown",
   "id": "3156f56b",
   "metadata": {},
   "source": [
    "#### B) Visualizando o grafo"
   ]
  },
  {
   "cell_type": "code",
   "execution_count": 33,
   "id": "d43cbd5f",
   "metadata": {},
   "outputs": [
    {
     "data": {
      "text/html": [
       "\n",
       "        <div id=\"CPa5XUs87mXMSuoJNobcZq\"></div>\n",
       "        <script>netpixi.render('CPa5XUs87mXMSuoJNobcZq', 'Deezer.net.gz', 1.7777777777777777, true, true, false);</script>\n",
       "    "
      ],
      "text/plain": [
       "<IPython.core.display.HTML object>"
      ]
     },
     "metadata": {},
     "output_type": "display_data"
    }
   ],
   "source": [
    "g= gt_load('../notebooks/Deezer.net.gz')\n",
    "var = gt_draw.sfdp_layout(g)\n",
    "g = gt_clean(g)\n",
    "gt_move(g, var)\n",
    "gt_save(g, 'Deezer.net.gz')\n",
    "r=netpixi.render('Deezer.net.gz',infinite=True);"
   ]
  },
  {
   "cell_type": "markdown",
   "id": "124c3ba6",
   "metadata": {},
   "source": [
    "#### C) Ajustando as propriedades visuais do grafo"
   ]
  },
  {
   "cell_type": "code",
   "execution_count": 37,
   "id": "30e69931",
   "metadata": {},
   "outputs": [
    {
     "data": {
      "text/html": [
       "\n",
       "        <div id=\"4CiV8h333vKH7sHU8rfT9v\"></div>\n",
       "        <script>netpixi.call('4CiV8h333vKH7sHU8rfT9v', 'CPa5XUs87mXMSuoJNobcZq', 'changeGraph', 'eyJ0eXBlIjogInNldHRpbmdzIiwgInByb3BzIjogeyJncmFwaCI6IHsiY29sb3IiOiAxNDU0MDI1M319fQo=');</script>\n",
       "    "
      ],
      "text/plain": [
       "<IPython.core.display.HTML object>"
      ]
     },
     "metadata": {},
     "output_type": "display_data"
    },
    {
     "data": {
      "text/html": [
       "\n",
       "        <div id=\"djtxEqzdu3HWuS378Nfgno\"></div>\n",
       "        <script>netpixi.call('djtxEqzdu3HWuS378Nfgno', 'CPa5XUs87mXMSuoJNobcZq', 'changeGraph', 'eyJ0eXBlIjogInNldHRpbmdzIiwgInByb3BzIjogeyJ2ZXJ0ZXgiOiB7ImNvbG9yIjogMTM0MjE3NzIsICJzaXplIjogMTV9fX0K');</script>\n",
       "    "
      ],
      "text/plain": [
       "<IPython.core.display.HTML object>"
      ]
     },
     "metadata": {},
     "output_type": "display_data"
    },
    {
     "data": {
      "text/html": [
       "\n",
       "        <div id=\"YkqqcNgBuDdoLWT7L8n4z3\"></div>\n",
       "        <script>netpixi.call('YkqqcNgBuDdoLWT7L8n4z3', 'CPa5XUs87mXMSuoJNobcZq', 'changeGraph', 'eyJ0eXBlIjogInNldHRpbmdzIiwgInByb3BzIjogeyJlZGdlIjogeyJjb2xvciI6IDAsICJ3aWR0aCI6IDMsICJjdXJ2ZTEiOiAyLCAiY3VydmUyIjogMn19fQo=');</script>\n",
       "    "
      ],
      "text/plain": [
       "<IPython.core.display.HTML object>"
      ]
     },
     "metadata": {},
     "output_type": "display_data"
    }
   ],
   "source": [
    "# mudar a cor de fundo do grafo\n",
    "r.graph(color=0xdddddd)\n",
    "\n",
    "# mudar a cor e o tamanho dos vértices\n",
    "r.vertex_default(color=0xcccccc, size=15)\n",
    "\n",
    "# mudar a cor, a espessura e a curvatura das arestas\n",
    "r.edge_default(color=0x000000, width=3, curve1=2, curve2=2)"
   ]
  },
  {
   "cell_type": "code",
   "execution_count": null,
   "id": "a724fb19",
   "metadata": {},
   "outputs": [],
   "source": []
  }
 ],
 "metadata": {
  "kernelspec": {
   "display_name": "Python 3 (ipykernel)",
   "language": "python",
   "name": "python3"
  },
  "language_info": {
   "codemirror_mode": {
    "name": "ipython",
    "version": 3
   },
   "file_extension": ".py",
   "mimetype": "text/x-python",
   "name": "python",
   "nbconvert_exporter": "python",
   "pygments_lexer": "ipython3",
   "version": "3.10.10"
  }
 },
 "nbformat": 4,
 "nbformat_minor": 5
}
