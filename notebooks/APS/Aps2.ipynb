{
 "cells": [
  {
   "cell_type": "markdown",
   "id": "70cdfe5c",
   "metadata": {},
   "source": [
    "## Redes sociais - APS(2)"
   ]
  },
  {
   "cell_type": "markdown",
   "id": "eb3035bd",
   "metadata": {},
   "source": [
    "Diogo Duarte, Pedro Dannecker e Gabriel de Araújo Alves\n",
    "\n"
   ]
  },
  {
   "cell_type": "markdown",
   "id": "6a6d93bb",
   "metadata": {},
   "source": [
    "### Importando bibliotecas"
   ]
  },
  {
   "cell_type": "code",
   "execution_count": 1,
   "id": "edf2ff16",
   "metadata": {},
   "outputs": [
    {
     "data": {
      "text/html": [
       "\n",
       "    <script src=\"/files/netpixi.min.js\"></script>\n"
      ],
      "text/plain": [
       "<IPython.core.display.HTML object>"
      ]
     },
     "metadata": {},
     "output_type": "display_data"
    }
   ],
   "source": [
    "import pandas as pd\n",
    "import csv\n",
    "from graph_tool import Graph\n",
    "import os\n",
    "from graph_tool import util\n",
    "import netpixi\n",
    "import pickle\n",
    "\n",
    "from regression.integration.gt import *\n",
    "from netpixi.integration.gt import *"
   ]
  },
  {
   "cell_type": "markdown",
   "id": "c6fcf7fd",
   "metadata": {},
   "source": [
    "### Analisando os dados iniciais e Dataframe"
   ]
  },
  {
   "cell_type": "code",
   "execution_count": 2,
   "id": "a5f0b7a4",
   "metadata": {},
   "outputs": [
    {
     "data": {
      "text/html": [
       "<div>\n",
       "<style scoped>\n",
       "    .dataframe tbody tr th:only-of-type {\n",
       "        vertical-align: middle;\n",
       "    }\n",
       "\n",
       "    .dataframe tbody tr th {\n",
       "        vertical-align: top;\n",
       "    }\n",
       "\n",
       "    .dataframe thead th {\n",
       "        text-align: right;\n",
       "    }\n",
       "</style>\n",
       "<table border=\"1\" class=\"dataframe\">\n",
       "  <thead>\n",
       "    <tr style=\"text-align: right;\">\n",
       "      <th></th>\n",
       "      <th>SRC</th>\n",
       "      <th>TGT</th>\n",
       "      <th>VOT</th>\n",
       "      <th>RES</th>\n",
       "      <th>DAT</th>\n",
       "      <th>TXT</th>\n",
       "    </tr>\n",
       "  </thead>\n",
       "  <tbody>\n",
       "    <tr>\n",
       "      <th>0</th>\n",
       "      <td>Steel1943</td>\n",
       "      <td>BDD</td>\n",
       "      <td>1</td>\n",
       "      <td>1</td>\n",
       "      <td>13, 19 April 2013</td>\n",
       "      <td>'''Support''' as co-nom.</td>\n",
       "    </tr>\n",
       "    <tr>\n",
       "      <th>1</th>\n",
       "      <td>Cuchullain</td>\n",
       "      <td>BDD</td>\n",
       "      <td>1</td>\n",
       "      <td>1</td>\n",
       "      <td>04, 20 April 2013</td>\n",
       "      <td>'''Support''' as nominator.--</td>\n",
       "    </tr>\n",
       "    <tr>\n",
       "      <th>2</th>\n",
       "      <td>INeverCry</td>\n",
       "      <td>BDD</td>\n",
       "      <td>1</td>\n",
       "      <td>1</td>\n",
       "      <td>43, 19 April 2013</td>\n",
       "      <td>'''Support''' per noms.</td>\n",
       "    </tr>\n",
       "    <tr>\n",
       "      <th>3</th>\n",
       "      <td>Cncmaster</td>\n",
       "      <td>BDD</td>\n",
       "      <td>1</td>\n",
       "      <td>1</td>\n",
       "      <td>11, 20 April 2013</td>\n",
       "      <td>'''Support''' per noms. BDD is a strong contri...</td>\n",
       "    </tr>\n",
       "    <tr>\n",
       "      <th>4</th>\n",
       "      <td>Miniapolis</td>\n",
       "      <td>BDD</td>\n",
       "      <td>1</td>\n",
       "      <td>1</td>\n",
       "      <td>56, 20 April 2013</td>\n",
       "      <td>GOCE|Guild of Copy Editors]] (where we're both...</td>\n",
       "    </tr>\n",
       "  </tbody>\n",
       "</table>\n",
       "</div>"
      ],
      "text/plain": [
       "          SRC  TGT VOT RES                DAT  \\\n",
       "0   Steel1943  BDD   1   1  13, 19 April 2013   \n",
       "1  Cuchullain  BDD   1   1  04, 20 April 2013   \n",
       "2   INeverCry  BDD   1   1  43, 19 April 2013   \n",
       "3   Cncmaster  BDD   1   1  11, 20 April 2013   \n",
       "4  Miniapolis  BDD   1   1  56, 20 April 2013   \n",
       "\n",
       "                                                 TXT  \n",
       "0                           '''Support''' as co-nom.  \n",
       "1                      '''Support''' as nominator.--  \n",
       "2                            '''Support''' per noms.  \n",
       "3  '''Support''' per noms. BDD is a strong contri...  \n",
       "4  GOCE|Guild of Copy Editors]] (where we're both...  "
      ]
     },
     "execution_count": 2,
     "metadata": {},
     "output_type": "execute_result"
    }
   ],
   "source": [
    "import re\n",
    "import pandas as pd\n",
    "\n",
    "df = open('wiki-RfA.txt', \"r\")\n",
    "\n",
    "lines = df.readlines()\n",
    "df_new=pickle.dumps(lines)\n",
    "df.close()\n",
    "\n",
    "for index, line in enumerate(lines):\n",
    "       lines[index] = line.strip()\n",
    "\n",
    "df_result = pd.DataFrame(columns=('SRC','TGT','VOT','RES','DAT','TXT'))\n",
    "list_src=[]\n",
    "list_tgt=[]\n",
    "list_vot=[]\n",
    "list_res=[]\n",
    "list_dat=[]\n",
    "list_txt=[]\n",
    "\n",
    "for line in lines:\n",
    "    if line.split(':')[0]=='SRC':\n",
    "        list_src.append(line.split(':')[-1])\n",
    "    elif line.split(':')[0]=='TGT':\n",
    "        list_tgt.append(line.split(':')[-1])\n",
    "    elif line.split(':')[0]=='VOT':\n",
    "        list_vot.append(line.split(':')[-1])\n",
    "    elif line.split(':')[0]=='RES':\n",
    "        list_res.append(line.split(':')[-1])\n",
    "    elif line.split(':')[0]=='DAT':\n",
    "        list_dat.append(line.split(':')[-1])\n",
    "    elif line.split(':')[0]=='TXT':\n",
    "        list_txt.append(line.split(':')[-1])\n",
    "    elif line.split(':')[0]==' ':\n",
    "        pass\n",
    "\n",
    "df_result['SRC']=list_src\n",
    "df_result['TGT']=list_tgt\n",
    "df_result['VOT']=list_vot\n",
    "df_result['RES']=list_res\n",
    "df_result['DAT']=list_dat\n",
    "df_result['TXT']=list_txt\n",
    "\n",
    "df_result.head()"
   ]
  },
  {
   "cell_type": "markdown",
   "id": "346bb710",
   "metadata": {},
   "source": [
    "#### Transformando dados faltantes em desconhecidos"
   ]
  },
  {
   "cell_type": "code",
   "execution_count": 3,
   "id": "aa9773a6",
   "metadata": {
    "scrolled": true
   },
   "outputs": [
    {
     "data": {
      "text/plain": [
       "Unknown           1661\n",
       "Siva1979          1232\n",
       "Mailer diablo      998\n",
       "Merovingian        916\n",
       "Wizardman          810\n",
       "                  ... \n",
       "Nunquam Dormio       1\n",
       "Eastlaw              1\n",
       "Yossiea              1\n",
       "P.wormer             1\n",
       "Nydigoveth           1\n",
       "Name: SRC, Length: 10415, dtype: int64"
      ]
     },
     "execution_count": 3,
     "metadata": {},
     "output_type": "execute_result"
    }
   ],
   "source": [
    "df_result['SRC']=df_result['SRC'].replace('','Unknown')\n",
    "df_result['SRC'].value_counts()"
   ]
  },
  {
   "cell_type": "code",
   "execution_count": 4,
   "id": "41c90cea",
   "metadata": {},
   "outputs": [],
   "source": [
    "list_voters=df_result['SRC'].value_counts().index"
   ]
  },
  {
   "cell_type": "markdown",
   "id": "3d4008e0",
   "metadata": {},
   "source": [
    "#### Retirando valores neutros da  coluna VOT"
   ]
  },
  {
   "cell_type": "code",
   "execution_count": 5,
   "id": "29ea6970",
   "metadata": {},
   "outputs": [],
   "source": [
    "df_result_new=df_result[df_result.VOT!='0']\n"
   ]
  },
  {
   "cell_type": "code",
   "execution_count": 6,
   "id": "6b3f2883",
   "metadata": {},
   "outputs": [],
   "source": [
    "list_targets=df_result_new.TGT.unique()\n"
   ]
  },
  {
   "cell_type": "markdown",
   "id": "4dc54472",
   "metadata": {},
   "source": [
    "### Criando o grafo"
   ]
  },
  {
   "cell_type": "code",
   "execution_count": 7,
   "id": "b3b06d44",
   "metadata": {},
   "outputs": [],
   "source": [
    "from netpixi.integration.gt import Graph\n",
    "\n",
    "g = Graph(directed=True) # dirigido"
   ]
  },
  {
   "cell_type": "markdown",
   "id": "3e951a9a",
   "metadata": {},
   "source": [
    "### Criando vertices"
   ]
  },
  {
   "cell_type": "code",
   "execution_count": 8,
   "id": "9f9f5c43",
   "metadata": {},
   "outputs": [],
   "source": [
    "for voter in list_voters:\n",
    "      g.add_vertex(voter)"
   ]
  },
  {
   "cell_type": "markdown",
   "id": "62ed734f",
   "metadata": {},
   "source": [
    "### Adicionando propriedades aos vértices"
   ]
  },
  {
   "cell_type": "code",
   "execution_count": 9,
   "id": "aaeba0fe",
   "metadata": {},
   "outputs": [],
   "source": [
    "values_voters=df_result['SRC'].value_counts().values\n",
    "for voter,value in zip(list_voters,values_voters):\n",
    "    g.add_gp(voter)\n",
    "    value=int(value)\n",
    "    g[voter]=value \n"
   ]
  },
  {
   "cell_type": "markdown",
   "id": "06e63f83",
   "metadata": {},
   "source": [
    "### Criando arestas"
   ]
  },
  {
   "cell_type": "code",
   "execution_count": 10,
   "id": "66c73acf",
   "metadata": {},
   "outputs": [],
   "source": [
    "for i in range(len(list_voters)-1):\n",
    "    \n",
    "    if list_voters[i]>=list_voters[i+1]:\n",
    "        g.add_edge(list_voters[i],list_voters[i+1])\n",
    "    else:\n",
    "        g.add_edge(list_voters[i+1],list_voters[i])"
   ]
  },
  {
   "cell_type": "markdown",
   "id": "05099c07",
   "metadata": {},
   "source": [
    "### Analise exploratoria"
   ]
  },
  {
   "cell_type": "markdown",
   "id": "df290173",
   "metadata": {},
   "source": [
    "#### a)número de vértices, número de arestas, densidade;"
   ]
  },
  {
   "cell_type": "code",
   "execution_count": 11,
   "id": "c029e0a2",
   "metadata": {},
   "outputs": [
    {
     "name": "stdout",
     "output_type": "stream",
     "text": [
      "O número de vértices é 10415\n"
     ]
    }
   ],
   "source": [
    "#número de vértices\n",
    "n = g.num_vertices()\n",
    "print('O número de vértices é {0}'.format(n))"
   ]
  },
  {
   "cell_type": "code",
   "execution_count": 12,
   "id": "8f811e11",
   "metadata": {},
   "outputs": [
    {
     "name": "stdout",
     "output_type": "stream",
     "text": [
      "O número de arestas é 10414\n"
     ]
    }
   ],
   "source": [
    "#número de arestas\n",
    "m = g.num_edges()\n",
    "print('O número de arestas é {0}'.format(m))"
   ]
  },
  {
   "cell_type": "code",
   "execution_count": 13,
   "id": "ca0e697a",
   "metadata": {},
   "outputs": [
    {
     "name": "stdout",
     "output_type": "stream",
     "text": [
      "A densidade é 0.0001\n"
     ]
    }
   ],
   "source": [
    "##densidade\n",
    "max_edges = n * (n - 1)\n",
    "d = m / max_edges\n",
    "print('A densidade é {0}'.format(round(d,4)))"
   ]
  },
  {
   "cell_type": "markdown",
   "id": "d5fe1c3d",
   "metadata": {},
   "source": [
    "#### b)estatísticas e histograma do degree. (não é necessário in-degree e out-degree)"
   ]
  },
  {
   "cell_type": "code",
   "execution_count": 14,
   "id": "36d4aab0",
   "metadata": {},
   "outputs": [
    {
     "data": {
      "text/html": [
       "<div>\n",
       "<style scoped>\n",
       "    .dataframe tbody tr th:only-of-type {\n",
       "        vertical-align: middle;\n",
       "    }\n",
       "\n",
       "    .dataframe tbody tr th {\n",
       "        vertical-align: top;\n",
       "    }\n",
       "\n",
       "    .dataframe thead th {\n",
       "        text-align: right;\n",
       "    }\n",
       "</style>\n",
       "<table border=\"1\" class=\"dataframe\">\n",
       "  <thead>\n",
       "    <tr style=\"text-align: right;\">\n",
       "      <th></th>\n",
       "      <th>id</th>\n",
       "    </tr>\n",
       "  </thead>\n",
       "  <tbody>\n",
       "    <tr>\n",
       "      <th>0</th>\n",
       "      <td>Unknown</td>\n",
       "    </tr>\n",
       "    <tr>\n",
       "      <th>1</th>\n",
       "      <td>Siva1979</td>\n",
       "    </tr>\n",
       "    <tr>\n",
       "      <th>2</th>\n",
       "      <td>Mailer diablo</td>\n",
       "    </tr>\n",
       "    <tr>\n",
       "      <th>3</th>\n",
       "      <td>Merovingian</td>\n",
       "    </tr>\n",
       "    <tr>\n",
       "      <th>4</th>\n",
       "      <td>Wizardman</td>\n",
       "    </tr>\n",
       "  </tbody>\n",
       "</table>\n",
       "</div>"
      ],
      "text/plain": [
       "              id\n",
       "0        Unknown\n",
       "1       Siva1979\n",
       "2  Mailer diablo\n",
       "3    Merovingian\n",
       "4      Wizardman"
      ]
     },
     "execution_count": 14,
     "metadata": {},
     "output_type": "execute_result"
    }
   ],
   "source": [
    "data_targets = pd.DataFrame({k: list(v) for k, v in g.vp.items()})\n",
    "data_targets.head()"
   ]
  },
  {
   "cell_type": "code",
   "execution_count": 15,
   "id": "6744a50a",
   "metadata": {},
   "outputs": [
    {
     "name": "stdout",
     "output_type": "stream",
     "text": [
      "<class 'pandas.core.frame.DataFrame'>\n",
      "RangeIndex: 10415 entries, 0 to 10414\n",
      "Data columns (total 2 columns):\n",
      " #   Column  Non-Null Count  Dtype \n",
      "---  ------  --------------  ----- \n",
      " 0   id      10415 non-null  object\n",
      " 1   degree  10415 non-null  int64 \n",
      "dtypes: int64(1), object(1)\n",
      "memory usage: 162.9+ KB\n"
     ]
    }
   ],
   "source": [
    "degrees = []\n",
    "for v in g.all_vertices():\n",
    "    degrees.append(v.total_degree())\n",
    "\n",
    "data_targets['degree'] = degrees\n",
    "data_targets.info()"
   ]
  },
  {
   "cell_type": "code",
   "execution_count": 16,
   "id": "f91c164c",
   "metadata": {},
   "outputs": [
    {
     "data": {
      "text/plain": [
       "count    10415.000000\n",
       "mean         1.999808\n",
       "std          0.013857\n",
       "min          1.000000\n",
       "25%          2.000000\n",
       "50%          2.000000\n",
       "75%          2.000000\n",
       "max          2.000000\n",
       "Name: degree, dtype: float64"
      ]
     },
     "execution_count": 16,
     "metadata": {},
     "output_type": "execute_result"
    },
    {
     "data": {
      "image/png": "[encoded data removed]",
      "text/plain": [
       "<Figure size 640x480 with 1 Axes>"
      ]
     },
     "metadata": {},
     "output_type": "display_data"
    }
   ],
   "source": [
    "import seaborn as sns\n",
    "sns.histplot(data_targets['degree'])\n",
    "data_targets['degree'].describe()"
   ]
  },
  {
   "cell_type": "markdown",
   "id": "b5dcdaa7",
   "metadata": {},
   "source": [
    "### Análise visual do grafo:\n",
    "\n",
    "\n",
    "\n",
    "\n",
    "\n",
    "\n",
    "\n",
    "\n",
    "\n"
   ]
  },
  {
   "cell_type": "markdown",
   "id": "83d95d1d",
   "metadata": {},
   "source": [
    "#### salve o grafo em um arquivo;"
   ]
  },
  {
   "cell_type": "code",
   "execution_count": 18,
   "id": "b8ace7ff",
   "metadata": {},
   "outputs": [],
   "source": [
    "gt_save(g,'Wiki-Rfa.net.gz')\n",
    "g = gt_clean(g)\n"
   ]
  },
  {
   "cell_type": "markdown",
   "id": "6e38ff10",
   "metadata": {},
   "source": [
    "#### visualize o grafo a partir desse arquivo,algoritmo baseado em force-directed graph drawing;\n",
    "\n"
   ]
  },
  {
   "cell_type": "code",
   "execution_count": 19,
   "id": "202fbdf9",
   "metadata": {},
   "outputs": [
    {
     "data": {
      "text/html": [
       "\n",
       "        <div id=\"iLFMPXTLeNbhtiNa8r59QR\"></div>\n",
       "        <script>netpixi.render('iLFMPXTLeNbhtiNa8r59QR', 'Wiki-Rfa.net.gz', 1.7777777777777777, true, true, false);</script>\n",
       "    "
      ],
      "text/plain": [
       "<IPython.core.display.HTML object>"
      ]
     },
     "metadata": {},
     "output_type": "display_data"
    }
   ],
   "source": [
    "g = gt_load('../notebooks/Wiki-Rfa.net.gz')\n",
    "m = gt_draw.sfdp_layout(g)\n",
    "gt_move(g, m)\n",
    "gt_save(g, 'Wiki-Rfa.net.gz')\n",
    "r=netpixi.render('Wiki-Rfa.net.gz',infinite=True);"
   ]
  },
  {
   "cell_type": "markdown",
   "id": "55f01422",
   "metadata": {},
   "source": [
    "#### ajuste as propriedades visuais do grafo"
   ]
  },
  {
   "cell_type": "code",
   "execution_count": 25,
   "id": "f16d5791",
   "metadata": {},
   "outputs": [
    {
     "data": {
      "text/html": [
       "\n",
       "        <div id=\"nZiu2eUAJDSsHXijN8H9iH\"></div>\n",
       "        <script>netpixi.call('nZiu2eUAJDSsHXijN8H9iH', 'iLFMPXTLeNbhtiNa8r59QR', 'changeGraph', 'eyJ0eXBlIjogInNldHRpbmdzIiwgInByb3BzIjogeyJncmFwaCI6IHsiY29sb3IiOiAxNjc3NzIxNX19fQo=');</script>\n",
       "    "
      ],
      "text/plain": [
       "<IPython.core.display.HTML object>"
      ]
     },
     "metadata": {},
     "output_type": "display_data"
    },
    {
     "data": {
      "text/html": [
       "\n",
       "        <div id=\"6avH6SjeCuPNfEoJ4KZcHY\"></div>\n",
       "        <script>netpixi.call('6avH6SjeCuPNfEoJ4KZcHY', 'iLFMPXTLeNbhtiNa8r59QR', 'changeGraph', 'eyJ0eXBlIjogInNldHRpbmdzIiwgInByb3BzIjogeyJ2ZXJ0ZXgiOiB7ImNvbG9yIjogMCwgInNpemUiOiAyfX19Cg==');</script>\n",
       "    "
      ],
      "text/plain": [
       "<IPython.core.display.HTML object>"
      ]
     },
     "metadata": {},
     "output_type": "display_data"
    },
    {
     "data": {
      "text/html": [
       "\n",
       "        <div id=\"SnvA6ihhWmSDwnD6f2sv85\"></div>\n",
       "        <script>netpixi.call('SnvA6ihhWmSDwnD6f2sv85', 'iLFMPXTLeNbhtiNa8r59QR', 'changeGraph', 'eyJ0eXBlIjogInNldHRpbmdzIiwgInByb3BzIjogeyJlZGdlIjogeyJjb2xvciI6IDAsICJ3aWR0aCI6IDMsICJjdXJ2ZTEiOiAyLCAiY3VydmUyIjogMn19fQo=');</script>\n",
       "    "
      ],
      "text/plain": [
       "<IPython.core.display.HTML object>"
      ]
     },
     "metadata": {},
     "output_type": "display_data"
    }
   ],
   "source": [
    "#códigos do tutorial A2\n",
    "\n",
    "# mudar a cor de fundo do grafo\n",
    "r.graph(color=0xffffff)\n",
    "\n",
    "# mudar a cor e o tamanho dos vértices\n",
    "r.vertex_default(color=0x000000, size=2)\n",
    "\n",
    "# mudar a cor, a espessura e a curvatura das arestas\n",
    "r.edge_default(color=0x000000, width=3, curve1=2, curve2=2)\n",
    "\n"
   ]
  },
  {
   "cell_type": "markdown",
   "id": "9562507e",
   "metadata": {},
   "source": [
    "### Cálculo centralidade beetweness"
   ]
  },
  {
   "cell_type": "code",
   "execution_count": 21,
   "id": "08d7adb6",
   "metadata": {},
   "outputs": [],
   "source": [
    "from graph_tool import centrality\n",
    "\n",
    "bc, _ = centrality.betweenness(g)"
   ]
  },
  {
   "cell_type": "markdown",
   "id": "122a260a",
   "metadata": {},
   "source": [
    "### Adição para propriedade do grafo"
   ]
  },
  {
   "cell_type": "code",
   "execution_count": 22,
   "id": "c294fb9c",
   "metadata": {},
   "outputs": [],
   "source": [
    "g.add_vp('betweenness', bc)"
   ]
  },
  {
   "cell_type": "code",
   "execution_count": 23,
   "id": "1a209325",
   "metadata": {},
   "outputs": [
    {
     "data": {
      "text/html": [
       "<div>\n",
       "<style scoped>\n",
       "    .dataframe tbody tr th:only-of-type {\n",
       "        vertical-align: middle;\n",
       "    }\n",
       "\n",
       "    .dataframe tbody tr th {\n",
       "        vertical-align: top;\n",
       "    }\n",
       "\n",
       "    .dataframe thead th {\n",
       "        text-align: right;\n",
       "    }\n",
       "</style>\n",
       "<table border=\"1\" class=\"dataframe\">\n",
       "  <thead>\n",
       "    <tr style=\"text-align: right;\">\n",
       "      <th></th>\n",
       "      <th>betweenness</th>\n",
       "    </tr>\n",
       "    <tr>\n",
       "      <th>id</th>\n",
       "      <th></th>\n",
       "    </tr>\n",
       "  </thead>\n",
       "  <tbody>\n",
       "    <tr>\n",
       "      <th>0</th>\n",
       "      <td>0.000000e+00</td>\n",
       "    </tr>\n",
       "    <tr>\n",
       "      <th>1</th>\n",
       "      <td>9.221606e-09</td>\n",
       "    </tr>\n",
       "    <tr>\n",
       "      <th>2</th>\n",
       "      <td>0.000000e+00</td>\n",
       "    </tr>\n",
       "    <tr>\n",
       "      <th>3</th>\n",
       "      <td>9.221606e-09</td>\n",
       "    </tr>\n",
       "    <tr>\n",
       "      <th>4</th>\n",
       "      <td>0.000000e+00</td>\n",
       "    </tr>\n",
       "  </tbody>\n",
       "</table>\n",
       "</div>"
      ],
      "text/plain": [
       "     betweenness\n",
       "id              \n",
       "0   0.000000e+00\n",
       "1   9.221606e-09\n",
       "2   0.000000e+00\n",
       "3   9.221606e-09\n",
       "4   0.000000e+00"
      ]
     },
     "execution_count": 23,
     "metadata": {},
     "output_type": "execute_result"
    }
   ],
   "source": [
    "df=gt_data(g)\n",
    "df.head()"
   ]
  },
  {
   "cell_type": "code",
   "execution_count": 26,
   "id": "83e1d62c",
   "metadata": {},
   "outputs": [
    {
     "data": {
      "text/html": [
       "\n",
       "        <div id=\"jotn3U64FebxQWxynaeA68\"></div>\n",
       "        <script>netpixi.call('jotn3U64FebxQWxynaeA68', 'iLFMPXTLeNbhtiNa8r59QR', 'setGraph', 'eyJ0eXBlIjogInZlcnRleCIsICJwcm9wcyI6IHsic3JjIjogImlkIiwgImRzdCI6ICJfa2V5In19Cg==');</script>\n",
       "    "
      ],
      "text/plain": [
       "<IPython.core.display.HTML object>"
      ]
     },
     "metadata": {},
     "output_type": "display_data"
    },
    {
     "data": {
      "text/html": [
       "\n",
       "        <div id=\"6QiEJTdKj5WJsh4y2zwbRu\"></div>\n",
       "        <script>netpixi.call('6QiEJTdKj5WJsh4y2zwbRu', 'iLFMPXTLeNbhtiNa8r59QR', 'normalizeGraph', 'eyJ0eXBlIjogInZlcnRleCIsICJwcm9wcyI6IHsic3JjIjogImJldHdlZW5uZXNzIiwgIm1pbiI6IDEwLCAibWF4IjogNTB9fQo=');</script>\n",
       "    "
      ],
      "text/plain": [
       "<IPython.core.display.HTML object>"
      ]
     },
     "metadata": {},
     "output_type": "display_data"
    }
   ],
   "source": [
    "r.vertex_set_key('id')\n",
    "r.vertex_scale('betweenness', 10, 50)"
   ]
  }
 ],
 "metadata": {
  "kernelspec": {
   "display_name": "Python 3 (ipykernel)",
   "language": "python",
   "name": "python3"
  },
  "language_info": {
   "codemirror_mode": {
    "name": "ipython",
    "version": 3
   },
   "file_extension": ".py",
   "mimetype": "text/x-python",
   "name": "python",
   "nbconvert_exporter": "python",
   "pygments_lexer": "ipython3",
   "version": "3.10.10"
  }
 },
 "nbformat": 4,
 "nbformat_minor": 5
}
